{
 "cells": [
  {
   "cell_type": "code",
   "id": "initial_id",
   "metadata": {
    "collapsed": true,
    "ExecuteTime": {
     "end_time": "2025-03-10T19:36:14.758546Z",
     "start_time": "2025-03-10T19:36:13.982093Z"
    }
   },
   "source": [
    "import datetime\n",
    "import re\n",
    "import os\n",
    "\n",
    "import pandas as pd"
   ],
   "outputs": [],
   "execution_count": 1
  },
  {
   "metadata": {
    "ExecuteTime": {
     "end_time": "2025-03-10T19:36:14.765810Z",
     "start_time": "2025-03-10T19:36:14.760498Z"
    }
   },
   "cell_type": "code",
   "source": [
    "DATE_RE = '\\\\d\\\\d?/\\\\d\\\\d?/\\\\d\\\\d?'\n",
    "TIME_RE = '\\\\d\\\\d?:\\\\d\\\\d? [AP]M'\n",
    "SENDER_RE = r'[ a-zA-Z0-9\\+\\(\\)]+'"
   ],
   "id": "6edd7de12192f11b",
   "outputs": [],
   "execution_count": 2
  },
  {
   "metadata": {
    "ExecuteTime": {
     "end_time": "2025-03-10T19:36:15.045557Z",
     "start_time": "2025-03-10T19:36:15.039919Z"
    }
   },
   "cell_type": "code",
   "source": [
    "DATETIME_RE = re.compile(f'(?P<date>{DATE_RE}), (?P<time>{TIME_RE})')\n",
    "MSG_RE = re.compile(f'(?P<date>{DATE_RE}), (?P<time>{TIME_RE}) - (?P<sender>{SENDER_RE}): (?P<message>.+)')"
   ],
   "id": "a0bf12ae3579e2af",
   "outputs": [],
   "execution_count": 3
  },
  {
   "metadata": {
    "ExecuteTime": {
     "end_time": "2025-03-10T19:36:15.063486Z",
     "start_time": "2025-03-10T19:36:15.052068Z"
    }
   },
   "cell_type": "code",
   "source": [
    "WHATSAPP_LOG_DIR = '../data/WhatsAppRaw/'\n",
    "WHATSAPP_RESULTS_DIR = '../data/WhatsAppCleaned/'"
   ],
   "id": "455a9bad6b393fab",
   "outputs": [],
   "execution_count": 4
  },
  {
   "metadata": {
    "ExecuteTime": {
     "end_time": "2025-03-10T19:36:15.078070Z",
     "start_time": "2025-03-10T19:36:15.070787Z"
    }
   },
   "cell_type": "code",
   "source": [
    "def create_str_from_log_file(log_file):\n",
    "  content = ''\n",
    "  with open(log_file, 'r', encoding='UTF-8') as file:\n",
    "    for line in file:\n",
    "      line = line.strip()\n",
    "      line = re.sub(r' ', ' ', line, flags=re.UNICODE)\n",
    "      if MSG_RE.match(line):\n",
    "        if content != '':\n",
    "          content += '\\n'\n",
    "        content += line\n",
    "      else:\n",
    "        if not re.match(DATETIME_RE, line):\n",
    "          content += ' '\n",
    "          content += line\n",
    "    return content\n",
    "\n",
    "def create_df_from_str(content):\n",
    "  date_times = []\n",
    "  senders = []\n",
    "  messages = []\n",
    "  raw = []\n",
    "\n",
    "  for match in MSG_RE.finditer(content):\n",
    "    date_times.append(f'{match[1]} {match[2]}')\n",
    "    senders.append(match[3])\n",
    "    messages.append(match[4])\n",
    "    raw.append(match[0])\n",
    "\n",
    "  res_df = pd.DataFrame({'DATETIME': date_times, 'SENDER': senders, 'MESSAGE': messages, 'RAW': raw})\n",
    "  res_df['DATETIME'].apply(lambda x: datetime.datetime.strptime)\n",
    "  return res_df"
   ],
   "id": "28187e6aa1ba937d",
   "outputs": [],
   "execution_count": 5
  },
  {
   "metadata": {
    "ExecuteTime": {
     "end_time": "2025-03-10T19:36:15.090002Z",
     "start_time": "2025-03-10T19:36:15.083142Z"
    }
   },
   "cell_type": "code",
   "source": [
    "def combine_same_sender(chat_df, col_to_combine='MESSAGE', col_to_groupby='SENDER',\n",
    "                        cols_to_agg=set(), cols_to_keep={'DATETIME'}):\n",
    "  \"\"\"\n",
    "  Combines values in chat_df[col_to_combine] while chat_df[col_to_groupby] is constant.\n",
    "  Additionally, aggregates chat_df[cols_to_agg] into sets\n",
    "\n",
    "  utility: combine contiguous messages from the same sender\n",
    "\n",
    "  :param chat_df: a pd.DataFrame containing chat data, created by `create_df_from_str()`\n",
    "  :param col_to_combine: column name of values to be combined\n",
    "  :param col_to_groupby: column name of IDs to group by\n",
    "  :param cols_to_agg: (optional) column name of values to be aggregated into sets\n",
    "  :return: processed DF\n",
    "  \"\"\"\n",
    "\n",
    "  # source: https://www.java-tech-stack.com/post/27180\n",
    "  # Identify groups where the value changes\n",
    "  chat_df['group'] = (chat_df[col_to_groupby] != chat_df[col_to_groupby].shift()).cumsum()\n",
    "\n",
    "  chat_df = chat_df.groupby('group', as_index=False).agg({\n",
    "      col_to_groupby : 'first',\n",
    "      col_to_combine : '\\n'.join,\n",
    "      **{c : set for c in cols_to_agg},\n",
    "      **{c : 'first' for c in cols_to_keep}\n",
    "  }).reset_index(drop=True)\n",
    "\n",
    "  return chat_df.drop(columns = ['group'])\n",
    "\n",
    "\n",
    "def add_context(chat_df, col_to_cat='RAW', new_col_name='FULL_CONTEXT', context_len=3):\n",
    "  neg_cols_added = [f'{col_to_cat}_neg_{i}' for i in range(1, 1+context_len)]\n",
    "  plus_cols_added = [f'{col_to_cat}_plus_{i}' for i in range(1, 1+context_len)]\n",
    "\n",
    "  for i in range(1, context_len+1):\n",
    "    chat_df[f'{col_to_cat}_neg_{i}'] = chat_df[col_to_cat].shift(-i)\n",
    "    chat_df[f'{col_to_cat}_plus_{i}'] = chat_df[col_to_cat].shift(i)\n",
    "\n",
    "  chat_df[new_col_name] = chat_df[[*neg_cols_added, col_to_cat, *plus_cols_added]].fillna('').agg('\\n'.join, axis=1).str.strip()\n",
    "  chat_df.drop(columns=[*neg_cols_added, *plus_cols_added], inplace=True)"
   ],
   "id": "d003c462c127ff3",
   "outputs": [],
   "execution_count": 6
  },
  {
   "metadata": {
    "ExecuteTime": {
     "end_time": "2025-03-10T19:36:15.276111Z",
     "start_time": "2025-03-10T19:36:15.094969Z"
    }
   },
   "cell_type": "code",
   "source": [
    "for filename in os.listdir(WHATSAPP_LOG_DIR):\n",
    "  if filename.endswith('.txt'):\n",
    "    chat_name = filename[len('WhatsApp Chat with '):-len('.txt')]\n",
    "    log_file = os.path.join(WHATSAPP_LOG_DIR, filename)\n",
    "    content = create_str_from_log_file(log_file)\n",
    "    log_df = create_df_from_str(content)\n",
    "    log_df = combine_same_sender(log_df)\n",
    "    log_df['PLATFORM'] = 'WhatsApp'\n",
    "    log_df['CHAT'] = f'CHAT_{chat_name}'\n",
    "    log_df['MSG_ID'] = 'WA_' + chat_name + '_'\n",
    "    log_df['MSG_ID'] = log_df['MSG_ID'].str.cat(log_df.index.astype(str))\n",
    "    # add_context(log_df)\n",
    "\n",
    "    log_df.to_csv(os.path.join(WHATSAPP_RESULTS_DIR, f'{chat_name}.tsv'), sep='\\t', index=False)"
   ],
   "id": "f213b9ee3e077d2e",
   "outputs": [],
   "execution_count": 7
  },
  {
   "metadata": {
    "ExecuteTime": {
     "end_time": "2025-03-10T19:36:15.340175Z",
     "start_time": "2025-03-10T19:36:15.283587Z"
    }
   },
   "cell_type": "code",
   "source": [
    "csv_fnames_to_cat = [fname for fname in os.listdir(WHATSAPP_RESULTS_DIR) if fname not in {'Temp.tsv', 'WhatsAppCombined.tsv'}]\n",
    "combined_df = pd.concat(\n",
    "  [pd.read_csv(os.path.join(WHATSAPP_RESULTS_DIR, file), sep='\\t') for file in csv_fnames_to_cat if file[-3:] == 'tsv']\n",
    ")\n",
    "combined_df.to_csv(os.path.join(WHATSAPP_RESULTS_DIR, 'WhatsAppCombined.tsv'), sep='\\t', index=False)"
   ],
   "id": "35d489fced67d3b2",
   "outputs": [],
   "execution_count": 8
  }
 ],
 "metadata": {
  "kernelspec": {
   "display_name": "Python 3",
   "language": "python",
   "name": "python3"
  },
  "language_info": {
   "codemirror_mode": {
    "name": "ipython",
    "version": 2
   },
   "file_extension": ".py",
   "mimetype": "text/x-python",
   "name": "python",
   "nbconvert_exporter": "python",
   "pygments_lexer": "ipython2",
   "version": "2.7.6"
  }
 },
 "nbformat": 4,
 "nbformat_minor": 5
}
