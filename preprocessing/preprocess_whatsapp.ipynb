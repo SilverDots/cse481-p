{
 "cells": [
  {
   "cell_type": "code",
   "id": "initial_id",
   "metadata": {
    "collapsed": true,
    "ExecuteTime": {
     "end_time": "2025-01-30T19:15:36.632836Z",
     "start_time": "2025-01-30T19:15:35.960962Z"
    }
   },
   "source": [
    "import re\n",
    "import os\n",
    "import pandas as pd"
   ],
   "outputs": [],
   "execution_count": 1
  },
  {
   "metadata": {
    "ExecuteTime": {
     "end_time": "2025-01-30T19:15:36.639789Z",
     "start_time": "2025-01-30T19:15:36.637228Z"
    }
   },
   "cell_type": "code",
   "source": [
    "DATE_RE = '\\\\d\\\\d?/\\\\d\\\\d?/\\\\d\\\\d?'\n",
    "TIME_RE = '\\\\d\\\\d?:\\\\d\\\\d? [AP]M'\n",
    "SENDER_RE = '[ a-zA-Z0-9]+'"
   ],
   "id": "6edd7de12192f11b",
   "outputs": [],
   "execution_count": 2
  },
  {
   "metadata": {
    "ExecuteTime": {
     "end_time": "2025-01-30T19:15:36.802876Z",
     "start_time": "2025-01-30T19:15:36.800370Z"
    }
   },
   "cell_type": "code",
   "source": "MSG_RE = re.compile(f'(?P<date>{DATE_RE}), (?P<time>{TIME_RE}) - (?P<sender>{SENDER_RE}): (?P<message>.+)')",
   "id": "a0bf12ae3579e2af",
   "outputs": [],
   "execution_count": 3
  },
  {
   "metadata": {
    "ExecuteTime": {
     "end_time": "2025-01-30T19:15:36.813149Z",
     "start_time": "2025-01-30T19:15:36.809635Z"
    }
   },
   "cell_type": "code",
   "source": [
    "WHATSAPP_LOG_DIR = '../data/WhatsAppRaw/'\n",
    "WHATSAPP_RESULTS_DIR = '../data/WhatsAppCleaned/'"
   ],
   "id": "455a9bad6b393fab",
   "outputs": [],
   "execution_count": 4
  },
  {
   "metadata": {
    "ExecuteTime": {
     "end_time": "2025-01-30T19:15:36.823559Z",
     "start_time": "2025-01-30T19:15:36.818542Z"
    }
   },
   "cell_type": "code",
   "source": [
    "def create_str_from_log_file(log_file):\n",
    "  content = ''\n",
    "  with open(log_file, 'r', encoding='utf-8') as file:\n",
    "    for line in file:\n",
    "      line = line.strip()\n",
    "      line = re.sub(r' ', ' ', line, flags=re.UNICODE)\n",
    "      if MSG_RE.match(line):\n",
    "        if content != '':\n",
    "          content += '\\n'\n",
    "        content += line\n",
    "      else:\n",
    "        content += ' '\n",
    "        content += line\n",
    "    return content\n",
    "\n",
    "def create_df_from_str(content):\n",
    "  dates = []\n",
    "  times = []\n",
    "  senders = []\n",
    "  messages = []\n",
    "  raw = []\n",
    "\n",
    "  for match in MSG_RE.finditer(content):\n",
    "    dates.append(match[1])\n",
    "    times.append(match[2])\n",
    "    senders.append(match[3])\n",
    "    messages.append(match[4])\n",
    "    raw.append(match[0])\n",
    "\n",
    "  return pd.DataFrame({'date': dates, 'time': times, 'sender': senders, 'message': messages, 'raw': raw})"
   ],
   "id": "28187e6aa1ba937d",
   "outputs": [],
   "execution_count": 5
  },
  {
   "metadata": {
    "ExecuteTime": {
     "end_time": "2025-01-30T19:15:36.832900Z",
     "start_time": "2025-01-30T19:15:36.828879Z"
    }
   },
   "cell_type": "code",
   "source": [
    "def add_context(chat_df, col_to_cat='raw', new_col_name='full_context', context_len=3):\n",
    "  neg_cols_added = [f'{col_to_cat}_neg_{i}' for i in range(1, 1+context_len)]\n",
    "  plus_cols_added = [f'{col_to_cat}_plus_{i}' for i in range(1, 1+context_len)]\n",
    "\n",
    "  for i in range(1, context_len+1):\n",
    "    chat_df[f'{col_to_cat}_neg_{i}'] = chat_df[col_to_cat].shift(-i)\n",
    "    chat_df[f'{col_to_cat}_plus_{i}'] = chat_df[col_to_cat].shift(i)\n",
    "\n",
    "  chat_df[new_col_name] = chat_df[[*neg_cols_added, col_to_cat, *plus_cols_added]].fillna('').agg('\\n'.join, axis=1).str.strip()\n",
    "  chat_df.drop(columns=[*neg_cols_added, *plus_cols_added], inplace=True)"
   ],
   "id": "d003c462c127ff3",
   "outputs": [],
   "execution_count": 6
  },
  {
   "metadata": {
    "ExecuteTime": {
     "end_time": "2025-01-30T19:15:37.055851Z",
     "start_time": "2025-01-30T19:15:36.838338Z"
    }
   },
   "cell_type": "code",
   "source": [
    "for filename in os.listdir(WHATSAPP_LOG_DIR):\n",
    "  if filename.endswith('.txt'):\n",
    "    chat_name = filename[len('WhatsApp Chat with '):-len('.txt')]\n",
    "    log_file = os.path.join(WHATSAPP_LOG_DIR, filename)\n",
    "    content = create_str_from_log_file(log_file)\n",
    "    log_df = create_df_from_str(content)\n",
    "    log_df['PLATFORM'] = 'WhatsApp'\n",
    "    log_df['MSG_ID'] = chat_name + ' '\n",
    "    log_df['MSG_ID'].str.cat(log_df.index.astype(str))\n",
    "    add_context(log_df)\n",
    "\n",
    "    log_df.to_csv(os.path.join(WHATSAPP_RESULTS_DIR, f'{chat_name}.csv'), index=False)"
   ],
   "id": "f213b9ee3e077d2e",
   "outputs": [],
   "execution_count": 7
  }
 ],
 "metadata": {
  "kernelspec": {
   "display_name": "Python 3",
   "language": "python",
   "name": "python3"
  },
  "language_info": {
   "codemirror_mode": {
    "name": "ipython",
    "version": 2
   },
   "file_extension": ".py",
   "mimetype": "text/x-python",
   "name": "python",
   "nbconvert_exporter": "python",
   "pygments_lexer": "ipython2",
   "version": "2.7.6"
  }
 },
 "nbformat": 4,
 "nbformat_minor": 5
}
