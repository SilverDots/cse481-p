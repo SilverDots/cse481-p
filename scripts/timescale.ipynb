{
 "cells": [
  {
   "metadata": {
    "ExecuteTime": {
     "end_time": "2025-03-10T19:39:08.073008Z",
     "start_time": "2025-03-10T19:39:07.858622Z"
    }
   },
   "cell_type": "code",
   "source": [
    "import logging\n",
    "import os\n",
    "from datetime import datetime, timedelta\n",
    "\n",
    "import numpy as np\n",
    "from dotenv import load_dotenv\n",
    "from pyarrow import json_\n",
    "\n",
    "load_dotenv()\n",
    "\n",
    "COLLECTION_NAME = 'timescale_WA_v1'\n",
    "\n",
    "# Set up the logger\n",
    "logging.basicConfig(level=logging.INFO)"
   ],
   "outputs": [],
   "execution_count": 1
  },
  {
   "metadata": {},
   "cell_type": "markdown",
   "source": "###  Load Data"
  },
  {
   "metadata": {
    "ExecuteTime": {
     "end_time": "2025-03-10T19:39:08.775491Z",
     "start_time": "2025-03-10T19:39:08.077767Z"
    }
   },
   "cell_type": "code",
   "source": [
    "import pandas as pd\n",
    "\n",
    "DATA_FILE = \"../data/WhatsAppCleaned/WhatsAppCombined.tsv\"\n",
    "\n",
    "def add_context(chat_df, col_to_cat='MESSAGE', new_col_name='CONTEXTUALIZED_MESSAGE', context_len=3, author_col='SENDER'):\n",
    "  temp_col = col_to_cat+'_TMP'\n",
    "  chat_df[temp_col] = chat_df[author_col] + ' ~ ' + chat_df[col_to_cat]\n",
    "\n",
    "  neg_cols_added = [f'{temp_col}_neg_{i}' for i in range(1, 1 + context_len)]\n",
    "  plus_cols_added = [f'{temp_col}_plus_{i}' for i in range(1, 1 + context_len)]\n",
    "\n",
    "  for i in range(1, context_len + 1):\n",
    "    chat_df[f'{temp_col}_plus_{i}'] = chat_df[temp_col].shift(-i)\n",
    "    chat_df[f'{temp_col}_neg_{i}'] = chat_df[temp_col].shift(i)\n",
    "\n",
    "  chat_df[new_col_name] = chat_df[[*neg_cols_added, temp_col, *plus_cols_added]].fillna('').agg('\\n'.join, axis=1).str.strip()\n",
    "  chat_df.drop(columns=[temp_col, *neg_cols_added, *plus_cols_added], inplace=True)\n",
    "  return chat_df\n",
    "\n",
    "\n",
    "data = pd.read_csv(DATA_FILE, sep='\\t', parse_dates=['DATETIME'])\n",
    "print(data.shape)\n",
    "data.dropna(inplace=True)\n",
    "print(data.shape)\n",
    "data = add_context(data, col_to_cat='MESSAGE', new_col_name='CONTEXTUALIZED_MESSAGE', context_len=3)"
   ],
   "outputs": [
    {
     "name": "stdout",
     "output_type": "stream",
     "text": [
      "(6731, 6)\n",
      "(6709, 6)\n"
     ]
    },
    {
     "name": "stderr",
     "output_type": "stream",
     "text": [
      "C:\\Users\\krish\\AppData\\Local\\Temp\\ipykernel_37712\\3449286335.py:21: UserWarning: Could not infer format, so each element will be parsed individually, falling back to `dateutil`. To ensure parsing is consistent and as-expected, please specify a format.\n",
      "  data = pd.read_csv(DATA_FILE, sep='\\t', parse_dates=['DATETIME'])\n"
     ]
    }
   ],
   "execution_count": 2
  },
  {
   "metadata": {
    "ExecuteTime": {
     "end_time": "2025-03-10T19:39:09.031483Z",
     "start_time": "2025-03-10T19:39:09.005203Z"
    }
   },
   "cell_type": "code",
   "source": [
    "#preview the csv file\n",
    "data.head()"
   ],
   "outputs": [
    {
     "data": {
      "text/plain": [
       "          SENDER                                            MESSAGE  \\\n",
       "0        Arya GJ                  Bruv group chat of group chat 😂😂😂   \n",
       "1  Zareef Amyeen         since the big chat has lowk been saturated   \n",
       "2     Soham Raut  Yoo we can talk shit about everyone else letsgooo   \n",
       "3  Zareef Amyeen    @14255353544 can you let me in when i get there   \n",
       "4     Soham Raut                                 Just kidding lmfao   \n",
       "\n",
       "             DATETIME  PLATFORM               CHAT             MSG_ID  \\\n",
       "0 2024-02-24 17:30:00  WhatsApp  CHAT_Hamza homies  WA_Hamza homies_0   \n",
       "1 2024-02-24 17:30:00  WhatsApp  CHAT_Hamza homies  WA_Hamza homies_1   \n",
       "2 2024-02-24 17:32:00  WhatsApp  CHAT_Hamza homies  WA_Hamza homies_2   \n",
       "3 2024-02-24 17:32:00  WhatsApp  CHAT_Hamza homies  WA_Hamza homies_3   \n",
       "4 2024-02-24 17:32:00  WhatsApp  CHAT_Hamza homies  WA_Hamza homies_4   \n",
       "\n",
       "                              CONTEXTUALIZED_MESSAGE  \n",
       "0  Arya GJ ~ Bruv group chat of group chat 😂😂😂\\nZ...  \n",
       "1  Arya GJ ~ Bruv group chat of group chat 😂😂😂\\n\\...  \n",
       "2  Zareef Amyeen ~ since the big chat has lowk be...  \n",
       "3  Soham Raut ~ Yoo we can talk shit about everyo...  \n",
       "4  Zareef Amyeen ~ @14255353544 can you let me in...  "
      ],
      "text/html": [
       "<div>\n",
       "<style scoped>\n",
       "    .dataframe tbody tr th:only-of-type {\n",
       "        vertical-align: middle;\n",
       "    }\n",
       "\n",
       "    .dataframe tbody tr th {\n",
       "        vertical-align: top;\n",
       "    }\n",
       "\n",
       "    .dataframe thead th {\n",
       "        text-align: right;\n",
       "    }\n",
       "</style>\n",
       "<table border=\"1\" class=\"dataframe\">\n",
       "  <thead>\n",
       "    <tr style=\"text-align: right;\">\n",
       "      <th></th>\n",
       "      <th>SENDER</th>\n",
       "      <th>MESSAGE</th>\n",
       "      <th>DATETIME</th>\n",
       "      <th>PLATFORM</th>\n",
       "      <th>CHAT</th>\n",
       "      <th>MSG_ID</th>\n",
       "      <th>CONTEXTUALIZED_MESSAGE</th>\n",
       "    </tr>\n",
       "  </thead>\n",
       "  <tbody>\n",
       "    <tr>\n",
       "      <th>0</th>\n",
       "      <td>Arya GJ</td>\n",
       "      <td>Bruv group chat of group chat 😂😂😂</td>\n",
       "      <td>2024-02-24 17:30:00</td>\n",
       "      <td>WhatsApp</td>\n",
       "      <td>CHAT_Hamza homies</td>\n",
       "      <td>WA_Hamza homies_0</td>\n",
       "      <td>Arya GJ ~ Bruv group chat of group chat 😂😂😂\\nZ...</td>\n",
       "    </tr>\n",
       "    <tr>\n",
       "      <th>1</th>\n",
       "      <td>Zareef Amyeen</td>\n",
       "      <td>since the big chat has lowk been saturated</td>\n",
       "      <td>2024-02-24 17:30:00</td>\n",
       "      <td>WhatsApp</td>\n",
       "      <td>CHAT_Hamza homies</td>\n",
       "      <td>WA_Hamza homies_1</td>\n",
       "      <td>Arya GJ ~ Bruv group chat of group chat 😂😂😂\\n\\...</td>\n",
       "    </tr>\n",
       "    <tr>\n",
       "      <th>2</th>\n",
       "      <td>Soham Raut</td>\n",
       "      <td>Yoo we can talk shit about everyone else letsgooo</td>\n",
       "      <td>2024-02-24 17:32:00</td>\n",
       "      <td>WhatsApp</td>\n",
       "      <td>CHAT_Hamza homies</td>\n",
       "      <td>WA_Hamza homies_2</td>\n",
       "      <td>Zareef Amyeen ~ since the big chat has lowk be...</td>\n",
       "    </tr>\n",
       "    <tr>\n",
       "      <th>3</th>\n",
       "      <td>Zareef Amyeen</td>\n",
       "      <td>@14255353544 can you let me in when i get there</td>\n",
       "      <td>2024-02-24 17:32:00</td>\n",
       "      <td>WhatsApp</td>\n",
       "      <td>CHAT_Hamza homies</td>\n",
       "      <td>WA_Hamza homies_3</td>\n",
       "      <td>Soham Raut ~ Yoo we can talk shit about everyo...</td>\n",
       "    </tr>\n",
       "    <tr>\n",
       "      <th>4</th>\n",
       "      <td>Soham Raut</td>\n",
       "      <td>Just kidding lmfao</td>\n",
       "      <td>2024-02-24 17:32:00</td>\n",
       "      <td>WhatsApp</td>\n",
       "      <td>CHAT_Hamza homies</td>\n",
       "      <td>WA_Hamza homies_4</td>\n",
       "      <td>Zareef Amyeen ~ @14255353544 can you let me in...</td>\n",
       "    </tr>\n",
       "  </tbody>\n",
       "</table>\n",
       "</div>"
      ]
     },
     "execution_count": 3,
     "metadata": {},
     "output_type": "execute_result"
    }
   ],
   "execution_count": 3
  },
  {
   "metadata": {
    "ExecuteTime": {
     "end_time": "2025-03-10T19:39:09.131894Z",
     "start_time": "2025-03-10T19:39:09.039851Z"
    }
   },
   "cell_type": "code",
   "source": [
    "from timescale_vector import client\n",
    "\n",
    "def create_uuid(date_string: str):\n",
    "  if date_string is None:\n",
    "    return None\n",
    "  # 2024-02-24T17:30:00.000\n",
    "  time_format = \"%Y-%m-%dT%H:%M:%S.%f\"\n",
    "  datetime_obj = datetime.strptime(date_string, time_format)\n",
    "  uuid = client.uuid_from_time(datetime_obj)\n",
    "  return str(uuid)\n",
    "\n",
    "def extract_metadata(record, metadata) -> dict:\n",
    "  # metadata = dict()\n",
    "  metadata[\"ID\"] = create_uuid(record[\"DATETIME\"])\n",
    "  metadata[\"MSG_ID\"] = record[\"MSG_ID\"]\n",
    "  metadata[\"DATETIME\"] = record[\"DATETIME\"] #datetime.strftime(record[\"DATETIME\"], '%Y-%m-%d %H:%M')\n",
    "  metadata[\"MESSAGE\"] = record[\"MESSAGE\"]\n",
    "  metadata[\"SENDER\"] = record[\"SENDER\"]\n",
    "  metadata[\"PLATFORM\"] = record[\"PLATFORM\"]\n",
    "  metadata[\"CHAT\"] = record[\"CHAT\"]\n",
    "\n",
    "  del metadata['source']\n",
    "  del metadata['seq_num']\n",
    "  return metadata\n",
    "\n",
    "def create_uuid2(datetime_obj):\n",
    "  if datetime_obj is None:\n",
    "    return None\n",
    "  uuid = client.uuid_from_time(datetime_obj.tz_localize('US/Pacific'))\n",
    "  return str(uuid)\n",
    "\n",
    "def create_date(dt):\n",
    "    if dt is None:\n",
    "        return None\n",
    "\n",
    "    # Extract relevant information\n",
    "    tz_info = dt.tz_localize('US/Pacific').utcoffset()\n",
    "    tz_str = f'{\"+\" if tz_info.days >= 0 else \"-\"}{np.abs(24*tz_info.days+tz_info.seconds//3600):02}{((tz_info.seconds%3600)//60):02}'\n",
    "    # Create a formatted string for the timestamptz in PostgreSQL format\n",
    "    timestamp_tz_str = (\n",
    "        f\"{dt.year}-{dt.month:02}-{dt.day:02} {dt.hour:02}:{dt.minute:02}:{dt.second:02}{tz_str}\"\n",
    "    )\n",
    "    return timestamp_tz_str\n",
    "\n",
    "def extract_metadata2(row) -> dict:\n",
    "  metadata = dict()\n",
    "  metadata[\"ID\"] = create_uuid2(row[\"DATETIME\"])\n",
    "  metadata[\"MSG_ID\"] = row[\"MSG_ID\"]\n",
    "  metadata[\"DATETIME\"] = create_date(row[\"DATETIME\"])\n",
    "  metadata[\"MESSAGE\"] = row[\"MESSAGE\"]\n",
    "  metadata[\"SENDER\"] = row[\"SENDER\"]\n",
    "  metadata[\"PLATFORM\"] = row[\"PLATFORM\"]\n",
    "  metadata[\"CHAT\"] = row[\"CHAT\"]\n",
    "\n",
    "  return metadata"
   ],
   "outputs": [],
   "execution_count": 4
  },
  {
   "metadata": {
    "ExecuteTime": {
     "end_time": "2025-03-10T19:39:13.390327Z",
     "start_time": "2025-03-10T19:39:09.154963Z"
    }
   },
   "cell_type": "code",
   "source": [
    "from langchain_core.documents import Document\n",
    "\n",
    "inp_docs = [\n",
    "  Document(\n",
    "    page_content=row['CONTEXTUALIZED_MESSAGE'],\n",
    "    metadata=extract_metadata2(row)\n",
    "  ) for _, row in data.iterrows()\n",
    "]"
   ],
   "outputs": [],
   "execution_count": 5
  },
  {
   "metadata": {
    "ExecuteTime": {
     "end_time": "2025-03-10T19:39:13.417736Z",
     "start_time": "2025-03-10T19:39:13.411378Z"
    }
   },
   "cell_type": "code",
   "source": "inp_docs[0]",
   "outputs": [
    {
     "data": {
      "text/plain": [
       "Document(metadata={'ID': '642b5c00-d37d-11ee-a26d-d6476db3fa42', 'MSG_ID': 'WA_Hamza homies_0', 'DATETIME': '2024-02-24 17:30:00-0800', 'MESSAGE': 'Bruv group chat of group chat 😂😂😂', 'SENDER': 'Arya GJ', 'PLATFORM': 'WhatsApp', 'CHAT': 'CHAT_Hamza homies'}, page_content='Arya GJ ~ Bruv group chat of group chat 😂😂😂\\nZareef Amyeen ~ since the big chat has lowk been saturated\\nSoham Raut ~ Yoo we can talk shit about everyone else letsgooo\\nZareef Amyeen ~ @14255353544 can you let me in when i get there')"
      ]
     },
     "execution_count": 6,
     "metadata": {},
     "output_type": "execute_result"
    }
   ],
   "execution_count": 6
  },
  {
   "metadata": {
    "ExecuteTime": {
     "end_time": "2025-03-10T19:39:13.454969Z",
     "start_time": "2025-03-10T19:39:13.447636Z"
    }
   },
   "cell_type": "code",
   "source": [
    "# from langchain_community.document_loaders.json_loader import JSONLoader\n",
    "#\n",
    "# # save to JSON so it can be read by timestore\n",
    "# data.to_json('../data/WhatsAppCleaned/WhatsAppCombined.json', 'table', index=False)\n",
    "#\n",
    "# # Load data from JSON file and extract metadata\n",
    "# loader = JSONLoader(\n",
    "#   file_path='../data/WhatsAppCleaned/WhatsAppCombined.json',\n",
    "#   jq_schema=\".data[]\",\n",
    "#   content_key='CONTEXTUALIZED_MESSAGE',\n",
    "#   text_content=True,\n",
    "#   metadata_func=extract_metadata,\n",
    "# )\n",
    "#\n",
    "# documents = loader.load()\n",
    "\n",
    "# print(len(documents))\n",
    "# print(documents[0])\n",
    "\n",
    "# inp_docs = documents"
   ],
   "outputs": [],
   "execution_count": 7
  },
  {
   "metadata": {
    "ExecuteTime": {
     "end_time": "2025-03-10T19:39:13.508440Z",
     "start_time": "2025-03-10T19:39:13.503354Z"
    }
   },
   "cell_type": "code",
   "source": [
    "# from langchain_text_splitters import CharacterTextSplitter\n",
    "#\n",
    "# # Split the documents into chunks for embedding\n",
    "# CHUNK_SIZE = 10000\n",
    "# text_splitter = CharacterTextSplitter(\n",
    "#   chunk_size=CHUNK_SIZE,\n",
    "#   chunk_overlap=CHUNK_SIZE//5,\n",
    "# )\n",
    "# docs = text_splitter.split_documents(documents)"
   ],
   "outputs": [],
   "execution_count": 8
  },
  {
   "metadata": {},
   "cell_type": "markdown",
   "source": "###  Import Libraries and enviornment variables"
  },
  {
   "metadata": {
    "ExecuteTime": {
     "end_time": "2025-03-10T22:02:47.231068Z",
     "start_time": "2025-03-10T22:02:46.150110Z"
    }
   },
   "cell_type": "code",
   "source": [
    "### LLMs\n",
    "os.environ[\"GOOGLE_API_KEY\"] = os.environ[\"API_KEY\"]\n",
    "from langchain_ollama import OllamaEmbeddings, ChatOllama\n",
    "from langchain_google_genai import ChatGoogleGenerativeAI\n",
    "\n",
    "LLAMA_3B_NAME = 'llama3.2'\n",
    "# DEEPSEEK_1_5B_NAME = 'deepseek-r1:1.5b'\n",
    "\n",
    "big_llm = ChatOllama(model=LLAMA_3B_NAME, temperature=0.)\n",
    "ret_llm = ChatGoogleGenerativeAI(\n",
    "    model=\"gemini-2.0-flash\",\n",
    "    temperature=0,\n",
    "    timeout=None,\n",
    "    max_retries=2,\n",
    ")\n",
    "# small_llm = ChatOllama(model=DEEPSEEK_1_5B_NAME)\n",
    "\n",
    "embed_model = OllamaEmbeddings(model=LLAMA_3B_NAME)"
   ],
   "outputs": [],
   "execution_count": 26
  },
  {
   "cell_type": "markdown",
   "metadata": {},
   "source": [
    "### Create Vectorstore"
   ]
  },
  {
   "cell_type": "code",
   "metadata": {
    "ExecuteTime": {
     "end_time": "2025-03-10T19:49:04.152294Z",
     "start_time": "2025-03-10T19:39:15.875303Z"
    }
   },
   "source": [
    "from langchain_community.vectorstores.timescalevector import TimescaleVector\n",
    "\n",
    "# Create a Timescale Vector instance from the collection of documents\n",
    "db = TimescaleVector.from_documents(\n",
    "  embedding=embed_model,\n",
    "  ids=[doc.metadata[\"ID\"] for doc in inp_docs],\n",
    "  documents=inp_docs,\n",
    "  collection_name=COLLECTION_NAME,\n",
    "  service_url=os.environ['TIMESCALE_SERVICE_URL'],\n",
    "  time_partition_interval=timedelta(days=2),\n",
    ")"
   ],
   "outputs": [
    {
     "name": "stderr",
     "output_type": "stream",
     "text": [
      "INFO:httpx:HTTP Request: POST http://127.0.0.1:11434/api/embed \"HTTP/1.1 200 OK\"\n"
     ]
    }
   ],
   "execution_count": 10
  },
  {
   "metadata": {},
   "cell_type": "markdown",
   "source": "### Read Vectorstore"
  },
  {
   "metadata": {
    "ExecuteTime": {
     "end_time": "2025-03-10T19:49:04.492580Z",
     "start_time": "2025-03-10T19:49:04.289847Z"
    }
   },
   "cell_type": "code",
   "source": [
    "from langchain_community.vectorstores.timescalevector import TimescaleVector\n",
    "import os\n",
    "\n",
    "db = TimescaleVector(\n",
    "    collection_name=COLLECTION_NAME,\n",
    "    service_url=os.environ['TIMESCALE_SERVICE_URL'],\n",
    "    embedding=embed_model,\n",
    ")\n",
    "\n",
    "# db.create_index(index_type=\"tsv\")"
   ],
   "outputs": [],
   "execution_count": 11
  },
  {
   "cell_type": "markdown",
   "metadata": {},
   "source": [
    "### Question"
   ]
  },
  {
   "cell_type": "code",
   "metadata": {
    "ExecuteTime": {
     "end_time": "2025-03-10T19:49:04.511724Z",
     "start_time": "2025-03-10T19:49:04.492580Z"
    }
   },
   "source": "question = \"What were the last 5 ToDos papa gave?\"",
   "outputs": [],
   "execution_count": 12
  },
  {
   "cell_type": "markdown",
   "metadata": {},
   "source": "### Retrieve docs from DB + Add Additional Context"
  },
  {
   "cell_type": "code",
   "metadata": {
    "ExecuteTime": {
     "end_time": "2025-03-10T19:49:04.551202Z",
     "start_time": "2025-03-10T19:49:04.541744Z"
    }
   },
   "source": [
    "# from datetime import datetime\n",
    "# start_dt = datetime(2025, 1, 1)  # Start date = Jan 1, 2025\n",
    "# end_dt = datetime.now() # End date = 30 August 2023, 22:10:35\n",
    "# td = timedelta(days=7)  # Time delta = 7 days\n",
    "#\n",
    "# Set timescale vector as a retriever and specify start and end dates via kwargs\n",
    "retriever = db.as_retriever(\n",
    "  search_type=\"similarity\",\n",
    "  search_kwargs={'k': 10}\n",
    "  # search_kwargs={\"start_date\": start_dt, \"end_date\": end_dt, 'k': 10}\n",
    ")"
   ],
   "outputs": [],
   "execution_count": 13
  },
  {
   "metadata": {
    "ExecuteTime": {
     "end_time": "2025-03-10T21:50:37.590791Z",
     "start_time": "2025-03-10T21:50:37.390861Z"
    }
   },
   "cell_type": "code",
   "source": [
    "from langchain.chains.query_constructor.base import AttributeInfo\n",
    "from langchain.retrievers.self_query.base import SelfQueryRetriever\n",
    "from langchain_community.query_constructors.timescalevector import TimescaleVectorTranslator\n",
    "\n",
    "# Give LLM info about the metadata fields\n",
    "metadata_field_info = [\n",
    "    AttributeInfo(\n",
    "        name=\"DATETIME\",\n",
    "        description=\"The time the message was sent. **A high priority filter**\",\n",
    "        type=\"timestamp\",\n",
    "    ),\n",
    "    AttributeInfo(\n",
    "        name=\"SENDER\",\n",
    "        description=\"The *case sensitive* name or ID of the message's author. **A high priority filter**\",\n",
    "        type=\"string\",\n",
    "    ),\n",
    "    AttributeInfo(\n",
    "        name=\"ID\",\n",
    "        description=\"A UUID v1 generated from the timestamp of the message\",\n",
    "        type=\"uuid\",\n",
    "    ),\n",
    "    AttributeInfo(\n",
    "        name=\"PLATFORM\",\n",
    "        description=\"The app where the message was sent. Valid values are ['Discord', 'WhatsApp']\",\n",
    "        type=\"string\",\n",
    "    ),\n",
    "    AttributeInfo(\n",
    "        name=\"CHAT\",\n",
    "        description=f\"The name of the chat room where the message was sent, will be invoked as 'the chat' or 'the chats'. Valid values are [{[f'\\'{name}\\'' for name in sorted(data.CHAT.unique())]}]\",\n",
    "        type=\"string\",\n",
    "    ),\n",
    "]\n",
    "document_content_description = \"A conversation with a sequence of authors and their messages\"\n",
    "\n",
    "vectorstore = TimescaleVector(\n",
    "    service_url=os.environ['TIMESCALE_SERVICE_URL'],\n",
    "    embedding=embed_model,\n",
    "    collection_name=COLLECTION_NAME\n",
    ")\n",
    "\n",
    "# Instantiate the self-query retriever from an LLM\n",
    "\n",
    "retriever = SelfQueryRetriever.from_llm(\n",
    "    ret_llm,\n",
    "    vectorstore,\n",
    "    document_content_description,\n",
    "    metadata_field_info,\n",
    "    structured_query_translator=TimescaleVectorTranslator(),\n",
    "    enable_limit=True,\n",
    "    use_original_query=True,\n",
    "    verbose=True\n",
    ")"
   ],
   "outputs": [],
   "execution_count": 23
  },
  {
   "metadata": {
    "ExecuteTime": {
     "end_time": "2025-03-10T21:50:42.462550Z",
     "start_time": "2025-03-10T21:50:42.457551Z"
    }
   },
   "cell_type": "code",
   "source": [
    "from langchain_core.callbacks.manager import CallbackManagerForRetrieverRun\n",
    "from langchain_core.documents import Document\n",
    "from typing import List\n",
    "from types import MethodType\n",
    "from logging import getLogger\n",
    "logger = getLogger(__name__)\n",
    "\n",
    "def my_get_relevant_documents(self, query: str, *, run_manager: CallbackManagerForRetrieverRun) -> List[Document]:\n",
    "        \"\"\"Get documents relevant for a query.\n",
    "\n",
    "        Args:\n",
    "            query: string to find relevant documents for\n",
    "\n",
    "        Returns:\n",
    "            List of relevant documents\n",
    "        \"\"\"\n",
    "        structured_query = self.query_constructor.invoke(\n",
    "            {\"query\": query}, config={\"callbacks\": run_manager.get_child()}\n",
    "        )\n",
    "        if self.verbose:\n",
    "            logger.info(f\"Generated Query: {structured_query}\")\n",
    "        new_query, search_kwargs = self._prepare_query(query, structured_query)\n",
    "        # ################# BEGIN: MY INTRODUCTION #################\n",
    "        # Double the requested message count, and return at least 10\n",
    "        search_kwargs['k'] = search_kwargs.get('k', 10)\n",
    "        search_kwargs['k'] = search_kwargs['k']*2\n",
    "        if search_kwargs['k'] < 10:\n",
    "          search_kwargs['k'] = 10\n",
    "        if self.verbose:\n",
    "            logger.info(f\"Final Query: {new_query} with args {search_kwargs}\")\n",
    "        # #################  END: MY INTRODUCTION  #################\n",
    "        docs = self._get_docs_with_query(new_query, search_kwargs)\n",
    "        return docs\n",
    "\n",
    "retriever._get_relevant_documents = MethodType(my_get_relevant_documents, retriever)"
   ],
   "outputs": [],
   "execution_count": 24
  },
  {
   "metadata": {
    "ExecuteTime": {
     "end_time": "2025-03-10T21:50:46.057226Z",
     "start_time": "2025-03-10T21:50:44.283902Z"
    }
   },
   "cell_type": "code",
   "source": "docs = retriever.invoke(question)",
   "outputs": [
    {
     "name": "stderr",
     "output_type": "stream",
     "text": [
      "INFO:__main__:Generated Query: query='Todos' filter=Comparison(comparator=<Comparator.EQ: 'eq'>, attribute='SENDER', value='Papa') limit=4\n",
      "INFO:__main__:Final Query: What were the last 5 ToDos papa gave? with args {'predicates': AND(('SENDER', '==', 'Papa')), 'k': 10}\n",
      "INFO:httpx:HTTP Request: POST http://127.0.0.1:11434/api/embed \"HTTP/1.1 200 OK\"\n"
     ]
    }
   ],
   "execution_count": 25
  },
  {
   "metadata": {
    "ExecuteTime": {
     "end_time": "2025-03-10T19:49:07.277218Z",
     "start_time": "2025-03-10T19:49:07.261262Z"
    }
   },
   "cell_type": "code",
   "source": [
    "def retrieve_more_context(msg_id, platform, chat, n_addl_msgs=10):\n",
    "  \"\"\"\n",
    "  Given a message with ID `msg_id`, get the `addl_msgs` preceding and following messages for context\n",
    "\n",
    "  :param msg_id: the ID of a retrieved message\n",
    "  :param platform: the platform of the retrieved message\n",
    "  :param chat: the chat of the retrieved message\n",
    "  :param n_addl_msgs: number of additional messages before and after msg `msg_id` to retrieve\n",
    "  :return: a string\n",
    "  \"\"\"\n",
    "  msg_info = data[data['MSG_ID'] == msg_id]\n",
    "\n",
    "  chat_hist = data[\n",
    "      (data['PLATFORM'] == platform) &\n",
    "      (data['CHAT'] == chat)\n",
    "  ]\n",
    "\n",
    "  context_lo = max(chat_hist.index[0], msg_info.index[0] - n_addl_msgs)\n",
    "  context_hi = min(chat_hist.index[-1], msg_info.index[0] + n_addl_msgs)\n",
    "\n",
    "  within_context_df = data.iloc[context_lo:context_hi, :].copy()\n",
    "  within_context_df['VERBOSE'] = within_context_df['PLATFORM'] + ' : ' + within_context_df['CHAT'] + '\\t' + within_context_df['DATETIME'].dt.strftime('%A %B %d, %Y %H:%M') + '\\t' + within_context_df['SENDER'] + ' ~ ' + within_context_df['MESSAGE']\n",
    "\n",
    "  return within_context_df['VERBOSE'].str.cat(sep='\\n')"
   ],
   "outputs": [],
   "execution_count": 17
  },
  {
   "metadata": {
    "ExecuteTime": {
     "end_time": "2025-03-10T19:49:07.498720Z",
     "start_time": "2025-03-10T19:49:07.331321Z"
    }
   },
   "cell_type": "code",
   "source": "fuller_context = [(doc.metadata['MSG_ID'], retrieve_more_context(doc.metadata['MSG_ID'], doc.metadata['PLATFORM'], doc.metadata['CHAT'])) for doc in docs]",
   "outputs": [],
   "execution_count": 18
  },
  {
   "metadata": {},
   "cell_type": "markdown",
   "source": "### Filter Docs w/ LLM"
  },
  {
   "metadata": {
    "ExecuteTime": {
     "end_time": "2025-03-10T19:49:07.518675Z",
     "start_time": "2025-03-10T19:49:07.506237Z"
    }
   },
   "cell_type": "code",
   "source": [
    "from langchain_core.prompts import ChatPromptTemplate\n",
    "from pydantic import BaseModel, Field\n",
    "\n",
    "# Data model\n",
    "class GradeDocuments(BaseModel):\n",
    "    \"\"\"Binary score for relevance check on retrieved documents.\"\"\"\n",
    "\n",
    "    binary_score: str = Field(\n",
    "        description=\"Documents are relevant to the question, 'yes' or 'no'\"\n",
    "    )\n",
    "\n",
    "\n",
    "# LLM with function call\n",
    "structured_llm_grader = big_llm.with_structured_output(GradeDocuments)\n",
    "\n",
    "# Prompt\n",
    "system = \"\"\"You are a grader assessing relevance of a retrieved document to a user question. \\n\n",
    "    If the document contains keyword(s) or semantic meaning related to the user question, grade it as relevant. \\n\n",
    "    It does not need to be a stringent test. The goal is to filter out erroneous retrievals. \\n\n",
    "    Give a binary score 'yes' or 'no' score to indicate whether the document is relevant to the question.\"\"\"\n",
    "grade_prompt = ChatPromptTemplate.from_messages(\n",
    "    [\n",
    "        (\"system\", system),\n",
    "        (\"human\", \"Retrieved document: \\n\\n {document} \\n\\n User question: {question}\"),\n",
    "    ]\n",
    ")\n",
    "\n",
    "retrieval_grader = grade_prompt | structured_llm_grader"
   ],
   "outputs": [],
   "execution_count": 19
  },
  {
   "metadata": {
    "ExecuteTime": {
     "end_time": "2025-03-10T19:49:18.488418Z",
     "start_time": "2025-03-10T19:49:07.539480Z"
    }
   },
   "cell_type": "code",
   "source": [
    "docs_to_use = []\n",
    "\n",
    "for (msg_id, msg_context) in fuller_context:\n",
    "    print(msg_context, '\\n', '-'*50)\n",
    "    res = retrieval_grader.invoke({\"question\": question, \"document\": msg_context})\n",
    "    print(res,'\\n\\n\\n')\n",
    "    if res and res.binary_score == 'yes':\n",
    "        docs_to_use.append({'MSG_ID' : msg_id, 'FULL_CONTEXT' : msg_context})"
   ],
   "outputs": [
    {
     "name": "stdout",
     "output_type": "stream",
     "text": [
      "WhatsApp : CHAT_Papa\tFriday February 25, 2022 16:57\tPapa ~ Sure\n",
      "Give me 5 minutes\n",
      "WhatsApp : CHAT_Papa\tFriday February 25, 2022 16:57\tKrishna Saxena ~ ok\n",
      "WhatsApp : CHAT_Papa\tFriday February 25, 2022 17:00\tPapa ~ On zoom ur link\n",
      "WhatsApp : CHAT_Papa\tFriday February 25, 2022 17:03\tKrishna Saxena ~ sure\n",
      "i am back\n",
      "WhatsApp : CHAT_Papa\tFriday February 25, 2022 19:44\tPapa ~ Me too\n",
      "Lost wifi\n",
      "WhatsApp : CHAT_Papa\tFriday February 25, 2022 20:03\tKrishna Saxena ~ oh... i will wait\n",
      "If it's not too late, I can call now\n",
      "WhatsApp : CHAT_Papa\tSunday February 27, 2022 17:50\tPapa ~ Ok\n",
      "WhatsApp : CHAT_Papa\tSunday February 27, 2022 17:51\tKrishna Saxena ~ your zoom?\n",
      "WhatsApp : CHAT_Papa\tSunday February 27, 2022 18:07\tPapa ~ Yes\n",
      "WhatsApp : CHAT_Papa\tSunday February 27, 2022 19:39\tKrishna Saxena ~ I am finished with dinner\n",
      "I can call when you are free\n",
      "WhatsApp : CHAT_Papa\tSunday April 03, 2022 15:20\tPapa ~ Done with taxes... Taking a break, let's regroup at 3:45\n",
      "WhatsApp : CHAT_Papa\tSunday April 03, 2022 15:21\tKrishna Saxena ~ Ok\n",
      "WhatsApp : CHAT_Papa\tSunday April 03, 2022 21:21\tPapa ~ Where are you?\n",
      "Missed voice call\n",
      "Missed voice call\n",
      "Missed voice call\n",
      "WhatsApp : CHAT_Papa\tTuesday April 05, 2022 16:26\tKrishna Saxena ~ Can you call today?\n",
      "WhatsApp : CHAT_Papa\tTuesday April 05, 2022 16:38\tPapa ~ Let's plan for 5\n",
      "Is that ok?\n",
      "WhatsApp : CHAT_Papa\tTuesday April 05, 2022 16:38\tKrishna Saxena ~ Ok\n",
      "WhatsApp : CHAT_Papa\tTuesday April 05, 2022 16:39\tPapa ~ Check surpriselib.com\n",
      "Zoom on...\n",
      "Back\n",
      "WhatsApp : CHAT_Papa\tTuesday April 05, 2022 20:32\tKrishna Saxena ~ Ok\n",
      "WhatsApp : CHAT_Papa\tFriday April 08, 2022 11:42\tPapa ~ U online\n",
      "Can I call u\n",
      "WhatsApp : CHAT_Papa\tFriday April 08, 2022 11:42\tKrishna Saxena ~ I can't call until 3 :(\n",
      "Heading to classes \n",
      " --------------------------------------------------\n"
     ]
    },
    {
     "name": "stderr",
     "output_type": "stream",
     "text": [
      "INFO:httpx:HTTP Request: POST http://127.0.0.1:11434/api/chat \"HTTP/1.1 200 OK\"\n"
     ]
    },
    {
     "name": "stdout",
     "output_type": "stream",
     "text": [
      "binary_score='yes' \n",
      "\n",
      "\n",
      "\n",
      "WhatsApp : CHAT_Saxena Family\tFriday November 08, 2019 12:04\tPapa ~ Cool, be safe, have fun...\n",
      "WhatsApp : CHAT_Saxena Family\tFriday November 08, 2019 21:44\tKrishna Saxena ~ Yes  Written by  Sophia Loren  _\" When I got enough confidence, the stage was gone….. When I was sure of Losing, I won……. When I needed People the most, they Left me……. When I learnt to dry my Tears, I found a shoulder to Cry on…… When I mastered the Skill of Hating, Someone started Loving me from the core of the Heart…… And, while waiting for Light for Hours when I fell asleep, the Sun came out….. That’s LIFE!! No matter what you Plan, you never know what Life has Planned for you…… Success introduces you to the World……. But Failure introduces the World to you……. ……Always be Happy!! Often when we lose Hope and think this is the end… God smiles from above and says, “Relax Sweetheart; It’s just a Bend, not the End..!\"_  WORTH READING IT AGAIN & AGAIN\n",
      "It was fun.\n",
      "No, I will send photos tomorrow\n",
      "WhatsApp : CHAT_Saxena Family\tSunday November 10, 2019 08:48\tAditi ~ Papa you left your wallet in the Prius\n",
      "WhatsApp : CHAT_Saxena Family\tWednesday November 13, 2019 19:13\tPapa ~ Ok  Map Pin to the drop-off area:  https://goo.gl/maps/R4sgpGrJCzvw5zsm6    12-12:  Lightning Flashlight Run @ Shoreline Lake Park,  (Brand New Run and Venue!!)  Map Pin to the drop-off area:  https://goo.gl/maps/jY8qU132q9Ketbi7A    12-17:  Holiday Run @ Picchetti Ranch O.S.P.,  (Our Celebration and Last Run of the Calendar Year.)  Map Pin to the drop-off area:  https://goo.gl/maps/a4Vkku18epwdBLcD9    Newly Added: 1-12:  Hot Chocolate Run @ SF Golden Gate Park (Mark your calendars.  Details to follow)\n",
      "Are you done with security?\n",
      "WhatsApp : CHAT_Saxena Family\tMonday November 18, 2019 15:19\tAditi ~ Cool\n",
      "WhatsApp : CHAT_Saxena Family\tTuesday November 19, 2019 07:35\tPapa ~ Good morning. Good evening..\n",
      "Aditi dental appointment moved by a week.\n",
      "The doctor is not available next week, so appointment moved to 12/3\n",
      "Same time 3:30 pm\n",
      "Krishna can wait for a bit\n",
      "Not sure... you want me to check?\n",
      "Ok 12/4 at 3:30 pm.\n",
      "Yes\n",
      "Ok\n",
      "Ok, no worries.\n",
      "WhatsApp : CHAT_Saxena Family\tSunday December 01, 2019 10:37\tAditi ~ Ok\n",
      "WhatsApp : CHAT_Saxena Family\tSunday December 01, 2019 18:07\tPapa ~ Have a safe trip. See you all on Friday, be good, be safe Love you guys!!\n",
      "WhatsApp : CHAT_Saxena Family\tMonday December 02, 2019 22:16\tAditi ~ Ok tomorrow I will\n",
      "Good night ❤\n",
      "WhatsApp : CHAT_Saxena Family\tThursday December 05, 2019 21:45\tPapa ~ When is your flight?\n",
      "WhatsApp : CHAT_Saxena Family\tFriday December 06, 2019 08:09\tKrishna Saxena ~ You deleted this message\n",
      "WhatsApp : CHAT_Saxena Family\tFriday December 06, 2019 10:42\tPapa ~ 10:40, when do u land?\n",
      "WhatsApp : CHAT_Saxena Family\tMonday December 09, 2019 15:00\tAditi ~ Soccer tryouts today I'll be home by 5\n",
      "WhatsApp : CHAT_Saxena Family\tMonday December 09, 2019 17:11\tPapa ~ When are you going to be back by? Hi Parents - this Friday is flash light run. The kids can bring a small flashlight or wear tube or or headlights for the run.\n",
      "WhatsApp : CHAT_Saxena Family\tWednesday December 11, 2019 20:56\tAditi ~ That's fine\n",
      "I'm ok\n",
      "Finished social am in mr.sanfords room\n",
      "WhatsApp : CHAT_Saxena Family\tSaturday December 14, 2019 13:20\tPapa ~ Just checking... how r u doing?\n",
      "WhatsApp : CHAT_Saxena Family\tSaturday December 14, 2019 13:20\tAditi ~ Good\n",
      "WhatsApp : CHAT_Saxena Family\tSaturday December 14, 2019 13:44\tKrishna Saxena ~ Fine\n",
      "How about you? https://www.wired.com/story/google-chrome-browser-settings-tips-tricks\n",
      "WhatsApp : CHAT_Saxena Family\tMonday December 16, 2019 12:15\tAditi ~ I have a fever mom, papa picked me up.\n",
      "How is it going for everyone?\n",
      "WhatsApp : CHAT_Saxena Family\tSaturday January 04, 2020 16:22\tPapa ~ I am doing fine. How about you? \n",
      " --------------------------------------------------\n"
     ]
    },
    {
     "name": "stderr",
     "output_type": "stream",
     "text": [
      "INFO:httpx:HTTP Request: POST http://127.0.0.1:11434/api/chat \"HTTP/1.1 200 OK\"\n"
     ]
    },
    {
     "name": "stdout",
     "output_type": "stream",
     "text": [
      "binary_score='no' \n",
      "\n",
      "\n",
      "\n",
      "WhatsApp : CHAT_Papa\tTuesday October 11, 2022 21:14\tPapa ~ K betu, can u send me the copy of the selenium notebook.\n",
      "Thank u\n",
      "Would u have some time now?\n",
      "Just a few minutes\n",
      "WhatsApp : CHAT_Papa\tSaturday October 15, 2022 21:26\tKrishna Saxena ~ Sure\n",
      "WhatsApp : CHAT_Papa\tSaturday October 15, 2022 21:26\tPapa ~ Give me 2 min\n",
      "On zoom\n",
      "My id\n",
      "Good morning Krishna let me know whenever you have some time...\n",
      "Hackaday: 3-DOF Robot Arm Wrist Without The Motor Weight. https://hackaday.com/2022/11/03/3-dof-robot-arm-wrist-without-the-motor-weight/\n",
      "Hi Krishna, just saw your missed calls... Sorry\n",
      "How are you doing? Busy with homework\n",
      "WhatsApp : CHAT_Papa\tSunday November 06, 2022 18:02\tKrishna Saxena ~ Did most of my work for this week today\n",
      "WhatsApp : CHAT_Papa\tSunday November 06, 2022 18:03\tPapa ~ Sure, take some rest and dinner.. we can get together after dinner...\n",
      "WhatsApp : CHAT_Papa\tSunday November 06, 2022 18:03\tKrishna Saxena ~ Ok\n",
      "Approximately what time?\n",
      "WhatsApp : CHAT_Papa\tSunday November 06, 2022 18:04\tPapa ~ 7 pm?\n",
      "WhatsApp : CHAT_Papa\tSunday November 06, 2022 18:04\tKrishna Saxena ~ Talk to you then\n",
      "WhatsApp : CHAT_Papa\tSunday November 06, 2022 18:51\tPapa ~ Just going for dinner now please give me a few minutes...\n",
      "WhatsApp : CHAT_Papa\tSunday November 06, 2022 18:51\tKrishna Saxena ~ No worries. Take your time\n",
      "WhatsApp : CHAT_Papa\tSunday November 06, 2022 19:12\tPapa ~ Back now\n",
      "WhatsApp : CHAT_Papa\tSunday November 06, 2022 19:13\tKrishna Saxena ~ Which meeting id?\n",
      "WhatsApp : CHAT_Papa\tSunday November 06, 2022 19:15\tPapa ~ Logging into zoom. Umich zoom id should work\n",
      "Krishna betu... Please call when you are free...\n",
      "Did u get a pass code from datakind?\n",
      "Nevermind the actual link is in slack..\n",
      "Have a good day will let u know\n",
      "When u have some time join the slack channel - there are 4 projects, one of them deals with SNAP benefits and the state they have chosen is WA and NC.\n",
      "I thought it would be good to know what kind of datasets they have for states... And perhaps gain some knowledge in that space.\n",
      "Missed video call\n",
      "WhatsApp : CHAT_Papa\tMonday December 19, 2022 13:27\tKrishna Saxena ~ Is an acai bowl from Jamba juice fine?\n",
      "WhatsApp : CHAT_Papa\tTuesday January 03, 2023 17:49\tPapa ~ How are u doing?\n",
      "WhatsApp : CHAT_Papa\tTuesday January 03, 2023 17:50\tKrishna Saxena ~ Alright. Just came back from volunteering\n",
      "WhatsApp : CHAT_Papa\tTuesday January 03, 2023 17:51\tPapa ~ No worries... Take your time\n",
      "How was the first day back?\n",
      "WhatsApp : CHAT_Papa\tTuesday January 03, 2023 17:52\tKrishna Saxena ~ Not to busy, but spread out\n",
      "My roommate wanted to go to the gym at 9 tonight\n",
      "WhatsApp : CHAT_Papa\tTuesday January 03, 2023 17:54\tPapa ~ Ok... Still trying to make some progress... Let me know when you are free tomorrow...\n",
      "I had to restart the deployment as I got confused... But it is back up\n",
      "Will you be free today? Please let me know\n",
      "Online now..\n",
      "Passcode 112233\n",
      "WhatsApp : CHAT_Papa\tSaturday January 07, 2023 14:07\tKrishna Saxena ~ Zoom says that password is incorrect\n",
      "Did your meeting id change? \n",
      " --------------------------------------------------\n"
     ]
    },
    {
     "name": "stderr",
     "output_type": "stream",
     "text": [
      "INFO:httpx:HTTP Request: POST http://127.0.0.1:11434/api/chat \"HTTP/1.1 200 OK\"\n"
     ]
    },
    {
     "name": "stdout",
     "output_type": "stream",
     "text": [
      "binary_score='no' \n",
      "\n",
      "\n",
      "\n",
      "WhatsApp : CHAT_Papa\tSaturday January 08, 2022 22:11\tPapa ~ I finished one more difficult homework, I will explain what I struggled with... Tomorrow... Let me know when you r done with your homework\n",
      "WhatsApp : CHAT_Papa\tSaturday January 08, 2022 22:11\tKrishna Saxena ~ Ok\n",
      "I am finished with my homework\n",
      "WhatsApp : CHAT_Papa\tSunday January 09, 2022 14:17\tPapa ~ Let's meet at 2:45. I will finish one more lecture.\n",
      "WhatsApp : CHAT_Papa\tSunday January 09, 2022 14:17\tKrishna Saxena ~ Alright\n",
      "WhatsApp : CHAT_Papa\tSunday January 09, 2022 15:01\tPapa ~ Online\n",
      "WhatsApp : CHAT_Papa\tSunday January 09, 2022 19:08\tKrishna Saxena ~ Ready when you are\n",
      "WhatsApp : CHAT_Papa\tSunday January 09, 2022 19:40\tPapa ~ Logging in\n",
      "How's it going\n",
      "I spoke to the author about the xgboost based predictions.\n",
      "WhatsApp : CHAT_Papa\tTuesday January 11, 2022 17:20\tKrishna Saxena ~ just finished reviewing a classmate's English paper\n",
      "If you can share, I am free now\n",
      "WhatsApp : CHAT_Papa\tTuesday January 11, 2022 17:48\tPapa ~ Give me a minute\n",
      "WhatsApp : CHAT_Papa\tTuesday January 11, 2022 17:48\tKrishna Saxena ~ ok\n",
      "back online\n",
      "WhatsApp : CHAT_Papa\tTuesday January 11, 2022 20:00\tPapa ~ In a minute\n",
      "WhatsApp : CHAT_Papa\tFriday January 14, 2022 17:55\tKrishna Saxena ~ Are you able to call today?\n",
      "WhatsApp : CHAT_Papa\tFriday January 14, 2022 18:17\tPapa ~ Yes\n",
      "WhatsApp : CHAT_Papa\tFriday January 14, 2022 18:17\tKrishna Saxena ~ now?\n",
      "WhatsApp : CHAT_Papa\tFriday January 14, 2022 18:17\tPapa ~ Sure, we can\n",
      "WhatsApp : CHAT_Papa\tFriday January 14, 2022 18:17\tKrishna Saxena ~ cool\n",
      "WhatsApp : CHAT_Papa\tFriday January 14, 2022 19:10\tPapa ~ I am back\n",
      "Take your time\n",
      "WhatsApp : CHAT_Papa\tFriday January 14, 2022 19:13\tKrishna Saxena ~ I am back too\n",
      "WhatsApp : CHAT_Papa\tFriday January 14, 2022 21:18\tPapa ~ Back\n",
      "WhatsApp : CHAT_Papa\tFriday January 14, 2022 21:19\tKrishna Saxena ~ me too\n",
      "I can call now \n",
      " --------------------------------------------------\n"
     ]
    },
    {
     "name": "stderr",
     "output_type": "stream",
     "text": [
      "INFO:httpx:HTTP Request: POST http://127.0.0.1:11434/api/chat \"HTTP/1.1 200 OK\"\n"
     ]
    },
    {
     "name": "stdout",
     "output_type": "stream",
     "text": [
      "binary_score='no' \n",
      "\n",
      "\n",
      "\n",
      "WhatsApp : CHAT_Papa\tFriday January 28, 2022 20:48\tPapa ~ Online now...\n",
      "WhatsApp : CHAT_Papa\tSaturday January 29, 2022 15:53\tKrishna Saxena ~ I can call now\n",
      "WhatsApp : CHAT_Papa\tSaturday January 29, 2022 22:33\tPapa ~ Did u find something interesting... Sorry, still working on the ui part. Just drop a short email when u r about to sleep\n",
      "WhatsApp : CHAT_Papa\tSaturday January 29, 2022 22:35\tKrishna Saxena ~ i sent an email with the important parts of 2 of the articles highlighted\n",
      "WhatsApp : CHAT_Papa\tSaturday January 29, 2022 22:35\tPapa ~ Oh thank you\n",
      "Had a really long weekend but now a bit more about AWS. Let me know when you are free\n",
      "Know a bit more\n",
      "How are you doing\n",
      "WhatsApp : CHAT_Papa\tFriday February 04, 2022 15:30\tKrishna Saxena ~ Busy. Lots of midterm assignments were due this week\n",
      "WhatsApp : CHAT_Papa\tFriday February 04, 2022 15:31\tPapa ~ Sure, take ur time.\n",
      "WhatsApp : CHAT_Papa\tFriday February 04, 2022 15:31\tKrishna Saxena ~ I will let you know when I finish the last one. Shouldn't take much longer\n",
      "WhatsApp : CHAT_Papa\tFriday February 04, 2022 15:31\tPapa ~ No worries\n",
      "WhatsApp : CHAT_Papa\tFriday February 04, 2022 17:46\tKrishna Saxena ~ Submitted all assignments. I can call now\n",
      "WhatsApp : CHAT_Papa\tFriday February 04, 2022 17:49\tPapa ~ Zoom\n",
      "WhatsApp : CHAT_Papa\tFriday February 04, 2022 17:49\tKrishna Saxena ~ sure\n",
      "WhatsApp : CHAT_Papa\tFriday February 04, 2022 19:56\tPapa ~ Back now\n",
      "WhatsApp : CHAT_Papa\tSunday February 06, 2022 16:23\tKrishna Saxena ~ Can you call today?\n",
      "WhatsApp : CHAT_Papa\tSunday February 06, 2022 16:31\tPapa ~ Sure\n",
      "WhatsApp : CHAT_Papa\tSunday February 06, 2022 19:39\tKrishna Saxena ~ I am back\n",
      "I will go brush now\n",
      "WhatsApp : CHAT_Papa\tSunday February 06, 2022 19:59\tPapa ~ Me back\n",
      "WhatsApp : CHAT_Papa\tSunday February 06, 2022 19:59\tKrishna Saxena ~ me too\n",
      "can you call today?\n",
      "WhatsApp : CHAT_Papa\tWednesday February 09, 2022 16:44\tPapa ~ Oh sure what time\n",
      "Let me know\n",
      "WhatsApp : CHAT_Papa\tWednesday February 09, 2022 16:44\tKrishna Saxena ~ I am free now \n",
      " --------------------------------------------------\n"
     ]
    },
    {
     "name": "stderr",
     "output_type": "stream",
     "text": [
      "INFO:httpx:HTTP Request: POST http://127.0.0.1:11434/api/chat \"HTTP/1.1 200 OK\"\n"
     ]
    },
    {
     "name": "stdout",
     "output_type": "stream",
     "text": [
      "binary_score='yes' \n",
      "\n",
      "\n",
      "\n",
      "WhatsApp : CHAT_Papa\tSunday January 16, 2022 17:53\tPapa ~ Oh sorry missed your message\n",
      "WhatsApp : CHAT_Papa\tSunday January 16, 2022 17:53\tKrishna Saxena ~ no worries\n",
      "WhatsApp : CHAT_Papa\tSunday January 16, 2022 17:53\tPapa ~ Calling\n",
      "Two minutes\n",
      "WhatsApp : CHAT_Papa\tSunday January 16, 2022 17:58\tKrishna Saxena ~ ok\n",
      "I am back\n",
      "WhatsApp : CHAT_Papa\tSunday January 16, 2022 19:52\tPapa ~ Me too\n",
      "Let's first call Baba\n",
      "WhatsApp : CHAT_Papa\tSunday January 16, 2022 19:53\tKrishna Saxena ~ sure\n",
      "WhatsApp : CHAT_Papa\tSunday January 16, 2022 19:56\tPapa ~ Are you calling?\n",
      "WhatsApp : CHAT_Papa\tSunday January 16, 2022 19:56\tKrishna Saxena ~ Yes\n",
      "I can call now\n",
      "WhatsApp : CHAT_Papa\tMonday January 17, 2022 15:37\tPapa ~ Give me 5 minutes\n",
      "Getting coffee\n",
      "WhatsApp : CHAT_Papa\tMonday January 17, 2022 15:37\tKrishna Saxena ~ ok\n",
      "WhatsApp : CHAT_Papa\tMonday January 17, 2022 15:49\tPapa ~ Ready\n",
      "WhatsApp : CHAT_Papa\tMonday January 17, 2022 15:49\tKrishna Saxena ~ same\n",
      "i am back\n",
      "WhatsApp : CHAT_Papa\tMonday January 17, 2022 19:41\tPapa ~ Me too\n",
      "Back\n",
      "WhatsApp : CHAT_Papa\tMonday January 17, 2022 21:02\tKrishna Saxena ~ me too\n",
      "Are you able to call today?\n",
      "WhatsApp : CHAT_Papa\tFriday January 21, 2022 16:20\tPapa ~ Sure what time works!\n",
      "WhatsApp : CHAT_Papa\tFriday January 21, 2022 16:20\tKrishna Saxena ~ any time\n",
      "WhatsApp : CHAT_Papa\tFriday January 21, 2022 16:20\tPapa ~ Oh give me 5 min and we can start after coffee\n",
      "WhatsApp : CHAT_Papa\tFriday January 21, 2022 16:21\tKrishna Saxena ~ ok\n",
      "WhatsApp : CHAT_Papa\tFriday January 21, 2022 20:54\tPapa ~ Done but let's brush and then meet\n",
      "WhatsApp : CHAT_Papa\tFriday January 21, 2022 21:02\tKrishna Saxena ~ I'm done brushing \n",
      " --------------------------------------------------\n"
     ]
    },
    {
     "name": "stderr",
     "output_type": "stream",
     "text": [
      "INFO:httpx:HTTP Request: POST http://127.0.0.1:11434/api/chat \"HTTP/1.1 200 OK\"\n"
     ]
    },
    {
     "name": "stdout",
     "output_type": "stream",
     "text": [
      "binary_score='no' \n",
      "\n",
      "\n",
      "\n",
      "WhatsApp : CHAT_Saxena Family\tSaturday December 14, 2024 15:23\tMa ~ Safe travels\n",
      "Quote of the year “A person is not great because they have never failed; a peron is great because failure doesn’t stop them or changed them for worse. “ <This message was edited>\n",
      "WhatsApp : CHAT_Saxena Family\tSunday December 15, 2024 00:48\tPapa ~ Reached Frankfurt next flight in 3 hours\n",
      "WhatsApp : CHAT_Saxena Family\tSunday December 15, 2024 01:34\tMa ~ Safe travels 💕\n",
      "WhatsApp : CHAT_Saxena Family\tSunday December 15, 2024 03:53\tPapa ~ <Media omitted>\n",
      "Landed in Delhi\n",
      "WhatsApp : CHAT_Saxena Family\tSunday December 15, 2024 12:42\tMa ~ Message when you reach home\n",
      "Reached??\n",
      "WhatsApp : CHAT_Saxena Family\tSunday December 15, 2024 13:42\tPapa ~ On the way\n",
      "Reached\n",
      "Will talk in the evening\n",
      "<Media omitted>\n",
      "WhatsApp : CHAT_Saxena Family\tSunday December 15, 2024 21:34\tMa ~ Nice\n",
      "Allahabadi?\n",
      "@15038405146 can you call Indigo locally and inform them for family reasons we need to end our trip @delhi and looking for ticket voucher for delhi to bom trip\n",
      "WhatsApp : CHAT_Saxena Family\tMonday December 16, 2024 19:56\tPapa ~ What is the one\n",
      "Code on your ticket\n",
      "WhatsApp : CHAT_Saxena Family\tMonday December 16, 2024 20:03\tMa ~ <Media omitted>\n",
      "<Media omitted>\n",
      "PNR/Booking Reference: T4GMNQ\n",
      "<Media omitted>\n",
      "WhatsApp : CHAT_Saxena Family\tMonday December 16, 2024 22:55\tPapa ~ <Media omitted>\n",
      "<Media omitted>\n",
      "Ready Refresh will deliver on Thursday\n",
      "WhatsApp : CHAT_Saxena Family\tTuesday December 17, 2024 14:07\tMa ~ Oh water\n",
      "Ranjani has nike coupons that can be used by dec 24th anyone has a use for it?\n",
      "https://www.facebook.com/reel/516774571217596?fs=e&mibextid=wwXIfr&fs=e\n",
      "https://www.facebook.com/reel/516774571217596?fs=e&mibextid=wwXIfr&fs=e\n",
      "WhatsApp : CHAT_Saxena Family\tTuesday December 17, 2024 17:01\tPapa ~ Miles of new redwood-laden hiking trails open in Santa Cruz Mountains https://www.sfgate.com/local/article/new-hiking-trails-santa-cruz-mountains-19986532.php\n",
      "There is very little backup info  - but Cleveland Clinic’s site says to take special care about travel by airplanes with PAH\n",
      "It’s clubbed with - don’t travel to high altitude places, so probably puts additional pressure on your heart due to pressure differential\n",
      "<Media omitted>\n",
      "<Media omitted>\n",
      "<Media omitted>\n",
      "<Media omitted>\n",
      "WhatsApp : CHAT_Saxena Family\tWednesday December 18, 2024 07:10\tMa ~ No group pictures??\n",
      "WhatsApp : CHAT_Saxena Family\tWednesday December 18, 2024 08:57\tPapa ~ With Cheekoo\n",
      "WhatsApp : CHAT_Saxena Family\tWednesday December 18, 2024 09:05\tMa ~ Oh only cheeku came, i thought papa, didi, alokee and cheeku were traveling with you\n",
      "WhatsApp : CHAT_Saxena Family\tWednesday December 18, 2024 09:11\tPapa ~ Yes all are here. Cheekoo has the pictures\n",
      "WhatsApp : CHAT_Saxena Family\tWednesday December 18, 2024 18:15\tKrishna Saxena ~ <Media omitted>\n",
      "WhatsApp : CHAT_Saxena Family\tWednesday December 18, 2024 18:15\tPapa ~ <Media omitted>\n",
      "WhatsApp : CHAT_Saxena Family\tWednesday December 18, 2024 18:16\tKrishna Saxena ~ <Media omitted>\n",
      "WhatsApp : CHAT_Saxena Family\tWednesday December 18, 2024 18:49\tAditi ~ woah\n",
      "its so pretty \n",
      " --------------------------------------------------\n"
     ]
    },
    {
     "name": "stderr",
     "output_type": "stream",
     "text": [
      "INFO:httpx:HTTP Request: POST http://127.0.0.1:11434/api/chat \"HTTP/1.1 200 OK\"\n"
     ]
    },
    {
     "name": "stdout",
     "output_type": "stream",
     "text": [
      "binary_score='no' \n",
      "\n",
      "\n",
      "\n",
      "WhatsApp : CHAT_Papa\tTuesday November 16, 2021 22:58\tPapa ~ All the best!!\n",
      "WhatsApp : CHAT_Papa\tTuesday November 16, 2021 23:00\tKrishna Saxena ~ Thank you\n",
      "I received an reply from dvc yesterday saying to upgrade to 2.8\n",
      "Is your solution simpler?\n",
      "WhatsApp : CHAT_Papa\tWednesday November 17, 2021 19:53\tPapa ~ Yes it is... We can discuss after ur exams\n",
      "WhatsApp : CHAT_Papa\tThursday November 18, 2021 17:01\tKrishna Saxena ~ I am ready to discuss whenever you are\n",
      "WhatsApp : CHAT_Papa\tThursday November 18, 2021 17:02\tPapa ~ Cool, give me a few minutes...\n",
      "Back finally\n",
      "WhatsApp : CHAT_Papa\tThursday November 18, 2021 19:49\tKrishna Saxena ~ Alright\n",
      "WhatsApp : CHAT_Papa\tThursday November 18, 2021 19:49\tPapa ~ Shall we zoom?\n",
      "WhatsApp : CHAT_Papa\tThursday November 18, 2021 19:50\tKrishna Saxena ~ Sure\n",
      "I can call whenever you are free\n",
      "WhatsApp : CHAT_Papa\tFriday November 19, 2021 17:00\tPapa ~ Me freeee\n",
      "WhatsApp : CHAT_Papa\tFriday November 19, 2021 17:01\tKrishna Saxena ~ Ok\n",
      "I'm back online\n",
      "I will brush teeth and come back\n",
      "WhatsApp : CHAT_Papa\tFriday November 19, 2021 19:59\tPapa ~ Ok\n",
      "WhatsApp : CHAT_Papa\tFriday November 19, 2021 20:09\tKrishna Saxena ~ I'm back\n",
      "WhatsApp : CHAT_Papa\tFriday November 19, 2021 20:10\tPapa ~ Joining\n",
      "WhatsApp : CHAT_Papa\tSaturday November 20, 2021 17:11\tKrishna Saxena ~ Are you free to meet?\n",
      "WhatsApp : CHAT_Papa\tSaturday November 20, 2021 17:11\tPapa ~ Sure\n",
      "WhatsApp : CHAT_Papa\tSaturday November 20, 2021 17:12\tKrishna Saxena ~ Cool talk to you\n",
      "Done with dinner\n",
      "WhatsApp : CHAT_Papa\tSaturday November 20, 2021 19:49\tPapa ~ Back now\n",
      "WhatsApp : CHAT_Papa\tSaturday November 20, 2021 19:49\tKrishna Saxena ~ ok\n",
      "I finished my work for the weekend\n",
      "WhatsApp : CHAT_Papa\tSunday November 21, 2021 16:28\tPapa ~ Back now...\n",
      "WhatsApp : CHAT_Papa\tSunday November 21, 2021 16:28\tKrishna Saxena ~ alrighty\n",
      "Finished with dinner\n",
      "I will go brush my teeth and let you know when I'm back \n",
      " --------------------------------------------------\n"
     ]
    },
    {
     "name": "stderr",
     "output_type": "stream",
     "text": [
      "INFO:httpx:HTTP Request: POST http://127.0.0.1:11434/api/chat \"HTTP/1.1 200 OK\"\n"
     ]
    },
    {
     "name": "stdout",
     "output_type": "stream",
     "text": [
      "binary_score='no' \n",
      "\n",
      "\n",
      "\n",
      "WhatsApp : CHAT_Saxena Family\tThursday September 14, 2023 12:28\tPapa ~ I didn't get any voicemail\n",
      "WhatsApp : CHAT_Saxena Family\tThursday September 14, 2023 12:28\tAditi ~ oh weird hold on\n",
      "WhatsApp : CHAT_Saxena Family\tThursday September 14, 2023 12:45\tPapa ~ Can you come out\n",
      "WhatsApp : CHAT_Saxena Family\tThursday September 14, 2023 12:46\tAditi ~ are you in the parking lot?\n",
      "WhatsApp : CHAT_Saxena Family\tThursday September 14, 2023 12:46\tPapa ~ Yes\n",
      "WhatsApp : CHAT_Saxena Family\tThursday September 14, 2023 12:46\tAditi ~ On my way!\n",
      "WhatsApp : CHAT_Saxena Family\tThursday September 14, 2023 12:48\tPapa ~ Cool, since it is lunch hour, I got stopped by the attendant in the parking lot\n",
      "WhatsApp : CHAT_Saxena Family\tFriday September 15, 2023 15:21\tMa ~ Geetha and her parents wanted to come meet us  on Sunday for lunch\n",
      "<Media omitted>\n",
      "If you see sad looking, angry, miserable or expressionless people you know how their thoughts are. Read good thinks, enjoy, leave space for things beyond work with your friends and family\n",
      "https://www.instagram.com/reel/CxLx9JwLxTp/?igshid=MzRlODBiNWFlZA==\n",
      "@15036908999\n",
      "WhatsApp : CHAT_Saxena Family\tMonday September 18, 2023 15:09\tAditi ~ hello\n",
      "WhatsApp : CHAT_Saxena Family\tTuesday September 19, 2023 08:17\tMa ~ https://youtu.be/b4R2qtmvbqc?si=_qMkpnzNcvDXNZTw\n",
      "Let’s get modak for Ganesh chaturthi\n",
      "WhatsApp : CHAT_Saxena Family\tTuesday September 19, 2023 12:58\tAditi ~ 2:10 pickup please\n",
      "WhatsApp : CHAT_Saxena Family\tTuesday September 19, 2023 14:10\tKrishna Saxena ~ Weare 4 mins away\n",
      "Come to 2nd and William\n",
      "WhatsApp : CHAT_Saxena Family\tTuesday September 19, 2023 14:13\tAditi ~ This message was deleted\n",
      "i am**\n",
      "WhatsApp : CHAT_Saxena Family\tThursday September 21, 2023 11:54\tMa ~ <Media omitted>\n",
      "WhatsApp : CHAT_Saxena Family\tFriday September 22, 2023 09:18\tAditi ~ 2:10 pickup today please!\n",
      "can someone come pick me up please\n",
      "WhatsApp : CHAT_Saxena Family\tFriday September 22, 2023 21:54\tKrishna Saxena ~ We are near 2nd and william\n",
      "WhatsApp : CHAT_Saxena Family\tFriday September 22, 2023 21:56\tAditi ~ oh give me a few minutes didnt think youd be here so fast\n",
      "WhatsApp : CHAT_Saxena Family\tFriday September 22, 2023 22:00\tKrishna Saxena ~ You have to come to the intersection to see us\n",
      "WhatsApp : CHAT_Saxena Family\tSaturday September 23, 2023 11:49\tMa ~ What do i say our eta is?\n",
      "Or krishna and I will go ahead\n",
      "WhatsApp : CHAT_Saxena Family\tSunday September 24, 2023 16:27\tAditi ~ https://www.tiktok.com/t/ZT86xbcBH/ \n",
      " --------------------------------------------------\n"
     ]
    },
    {
     "name": "stderr",
     "output_type": "stream",
     "text": [
      "INFO:httpx:HTTP Request: POST http://127.0.0.1:11434/api/chat \"HTTP/1.1 200 OK\"\n"
     ]
    },
    {
     "name": "stdout",
     "output_type": "stream",
     "text": [
      "binary_score='no' \n",
      "\n",
      "\n",
      "\n",
      "WhatsApp : CHAT_Saxena Family\tFriday September 20, 2024 14:16\tMa ~ Will come in 20 minutes\n",
      "WhatsApp : CHAT_Saxena Family\tFriday September 20, 2024 14:17\tAditi ~ ok 😮\n",
      "WhatsApp : CHAT_Saxena Family\tFriday September 20, 2024 14:17\tPapa ~ Coming now\n",
      "WhatsApp : CHAT_Saxena Family\tFriday September 20, 2024 22:59\tMa ~ https://www.instagram.com/reel/C83oXH4Ibzt/?igsh=NjFhOGMzYTE3ZQ==\n",
      "@19717270030 https://jobs.apple.com/en-gb/search?sort=relevance&key=internship&location=united-states-USA\n",
      "Look for internship positions in area of your interest and give me a few jobids\n",
      "WhatsApp : CHAT_Saxena Family\tMonday September 23, 2024 08:18\tPapa ~ Hi K bhai, please put in a cover letter saying that you are looking for internships between completing your bachelors and applying for Masters…. This is done by many students and companies do like to engage with students\n",
      "WhatsApp : CHAT_Saxena Family\tMonday September 23, 2024 08:19\tMa ~ <Media omitted>\n",
      "Add more keywords\n",
      "WhatsApp : CHAT_Saxena Family\tMonday September 23, 2024 08:20\tPapa ~ We had spoken about this yesterday and Mom clarified about that\n",
      "Do similarly for Disney and let me know\n",
      "WhatsApp : CHAT_Saxena Family\tMonday September 23, 2024 08:20\tMa ~ This message was deleted\n",
      "<Media omitted>\n",
      "<Media omitted>\n",
      "Example filtering result: https://jobs.apple.com/en-gb/details/200554363/machine-learning-ai-internships?team=STDNT\n",
      "<Media omitted>\n",
      "WhatsApp : CHAT_Saxena Family\tMonday September 23, 2024 17:19\tPapa ~ <Media omitted>\n",
      "WhatsApp : CHAT_Saxena Family\tMonday September 23, 2024 17:19\tMa ~ This message was deleted\n",
      "WhatsApp : CHAT_Saxena Family\tMonday September 23, 2024 17:20\tPapa ~ Not quite but getting better with running\n",
      "WhatsApp : CHAT_Saxena Family\tMonday September 23, 2024 17:20\tMa ~ Persistence is what counts.\n",
      "Giving up hurts\n",
      "WhatsApp : CHAT_Saxena Family\tMonday September 23, 2024 17:21\tPapa ~ Let’s see how much Hoka shoes can help 😁\n",
      "WhatsApp : CHAT_Saxena Family\tTuesday September 24, 2024 23:01\tMa ~ Seattle booking completed for thanksgiving\n",
      "WhatsApp : CHAT_Saxena Family\tWednesday September 25, 2024 15:58\tPapa ~ <Media omitted>\n",
      "K bhai, would you get a discount? Here is the schedule Edmonds to Kingston ferry... https://wsdot.com/ferries/schedule/scheduledetailbyroute.aspx?route=ed-king\n",
      "WhatsApp : CHAT_Saxena Family\tWednesday September 25, 2024 16:09\tKrishna Saxena ~ I couldn't find any UW discounts\n",
      "WhatsApp : CHAT_Saxena Family\tWednesday September 25, 2024 16:10\tPapa ~ no worries...\n",
      "WhatsApp : CHAT_Saxena Family\tThursday September 26, 2024 14:12\tAditi ~ <Media omitted>\n",
      "🙁\n",
      "WhatsApp : CHAT_Saxena Family\tThursday September 26, 2024 18:02\tMa ~ https://www.facebook.com/reel/8591090904276528?fs=e&mibextid=0NULKw&fs=e&s=TIeQ9V\n",
      "<Media omitted>\n",
      "WhatsApp : CHAT_Saxena Family\tFriday September 27, 2024 09:09\tPapa ~ K Bhai we hope you had a great first day of your fall quarter of your final year!! \n",
      " --------------------------------------------------\n"
     ]
    },
    {
     "name": "stderr",
     "output_type": "stream",
     "text": [
      "INFO:httpx:HTTP Request: POST http://127.0.0.1:11434/api/chat \"HTTP/1.1 200 OK\"\n"
     ]
    },
    {
     "name": "stdout",
     "output_type": "stream",
     "text": [
      "binary_score='no' \n",
      "\n",
      "\n",
      "\n",
      "WhatsApp : CHAT_Saxena Family\tTuesday August 27, 2019 17:12\tPapa ~ Okie dokie... just checking. See you in a few.\n",
      "WhatsApp : CHAT_Saxena Family\tTuesday August 27, 2019 17:31\tKrishna Saxena ~ Can someone please open the gate\n",
      "WhatsApp : CHAT_Saxena Family\tTuesday September 03, 2019 17:10\tPapa ~ Okie dokie\n",
      "Boarded?\n",
      "Cool\n",
      "Aditi where r u?\n",
      "<Media omitted>\n",
      "Adding Aditi\n",
      "Yes  Thanks,  Coach Jensen and Coach Sanfor\n",
      "Aditi is already added. You don't see her?\n",
      "WhatsApp : CHAT_Saxena Family\tTuesday September 24, 2019 17:02\tAditi ~ Hi\n",
      "Are you guys coming home?\n",
      "WhatsApp : CHAT_Saxena Family\tThursday September 26, 2019 16:03\tPapa ~ No power!\n",
      "It's back.\n",
      "Power failure again! !\n",
      "WhatsApp : CHAT_Saxena Family\tFriday September 27, 2019 15:03\tAditi ~ I have a after school activity I'll come home at 5:15\n",
      "WhatsApp : CHAT_Saxena Family\tFriday September 27, 2019 20:30\tPapa ~ Cool... see you in about 30 min\n",
      "Pest control guy is here.\n",
      "WhatsApp : CHAT_Saxena Family\tThursday October 03, 2019 15:08\tAditi ~ Have cross country at school\n",
      "WhatsApp : CHAT_Saxena Family\tSunday October 06, 2019 14:06\tPapa ~ Can't read too many details...\n",
      "Hopefully you can on ur phone.\n",
      "WhatsApp : CHAT_Saxena Family\tTuesday October 08, 2019 19:01\tKrishna Saxena ~ Yes please\n",
      "No\n",
      "WhatsApp : CHAT_Saxena Family\tSaturday October 12, 2019 17:52\tPapa ~ Krishna, mom is reaching towards the back of the robotics lab... towards the soccer fields.\n",
      "WhatsApp : CHAT_Saxena Family\tWednesday October 16, 2019 15:01\tAditi ~ Volley ball tryouts till 5 pm\n",
      "Done and I got home\n",
      "Run club\n",
      "I'll be home later\n",
      "Run club\n",
      "<Media omitted> This was the funny videos papa and I were watching\n",
      "Ok\n",
      "WhatsApp : CHAT_Saxena Family\tWednesday October 30, 2019 21:06\tKrishna Saxena ~ Ok coming soon\n",
      "WhatsApp : CHAT_Saxena Family\tThursday October 31, 2019 07:58\tAditi ~ <Media omitted>\n",
      "WhatsApp : CHAT_Saxena Family\tThursday October 31, 2019 12:11\tPapa ~ Flight is at 4pm. So I will leave at 1:50 pm.\n",
      "I am a the gate...\n",
      "WhatsApp : CHAT_Saxena Family\tThursday October 31, 2019 15:28\tAditi ~ Did you board the flight\n",
      "WhatsApp : CHAT_Saxena Family\tThursday October 31, 2019 15:39\tPapa ~ Now I have...\n",
      "Are u at home?\n",
      "WhatsApp : CHAT_Saxena Family\tThursday October 31, 2019 15:39\tKrishna Saxena ~ Yes\n",
      "Have a safe flight\n",
      "WhatsApp : CHAT_Saxena Family\tThursday October 31, 2019 15:42\tPapa ~ See you all tomorrow...\n",
      "WhatsApp : CHAT_Saxena Family\tThursday October 31, 2019 15:43\tKrishna Saxena ~ See you tomorrow \n",
      " --------------------------------------------------\n"
     ]
    },
    {
     "name": "stderr",
     "output_type": "stream",
     "text": [
      "INFO:httpx:HTTP Request: POST http://127.0.0.1:11434/api/chat \"HTTP/1.1 200 OK\"\n"
     ]
    },
    {
     "name": "stdout",
     "output_type": "stream",
     "text": [
      "binary_score='no' \n",
      "\n",
      "\n",
      "\n",
      "WhatsApp : CHAT_Saxena Family\tThursday April 14, 2022 12:38\tPapa ~ In a meeting\n",
      "WhatsApp : CHAT_Saxena Family\tThursday April 14, 2022 12:40\tMa ~ I will pick aditi\n",
      "<Media omitted>\n",
      "<Media omitted>\n",
      "<Media omitted>\n",
      "https://www.mercurynews.com/2022/04/17/girls-high-school-sweeps-synopsys-science-competition/?utm_source=facebook.com&utm_campaign=socialflow&utm_content=fb-willowglenresident&utm_medium=social&fbclid=IwAR3OrKdZNSo-qJPdXtHrQsFtbCdMIvlsxCd3amaRqEWbNb2Icmg43g1F5S8\n",
      "Krishna and Aditi the insurance information will need to be updated\n",
      "WhatsApp : CHAT_Saxena Family\tTuesday April 19, 2022 14:59\tPapa ~ Dentist appointment tomorrow for Aditi @ 2 pm\n",
      "WhatsApp : CHAT_Saxena Family\tTuesday April 19, 2022 15:01\tMa ~ Oh\n",
      "Let me see if I can move things on my calendar. Is this dr. Sakrani?\n",
      "WhatsApp : CHAT_Saxena Family\tTuesday April 19, 2022 15:31\tPapa ~ Yes, I can take her\n",
      "WhatsApp : CHAT_Saxena Family\tTuesday April 26, 2022 00:22\tMa ~ Happy birthday Krishna, lots of love and blessings and hugs and kisses 💕🍰🎉\n",
      "<Media omitted>\n",
      "WhatsApp : CHAT_Saxena Family\tTuesday April 26, 2022 18:49\tAditi ~ text me when kbhai joins call\n",
      "u can pick me up at 710 i just wanted to join:)\n",
      "WhatsApp : CHAT_Saxena Family\tTuesday April 26, 2022 18:55\tPapa ~ Aditi\n",
      "Join\n",
      "WhatsApp : CHAT_Saxena Family\tFriday April 29, 2022 18:06\tKrishna Saxena ~ Didn't get into major, so I'll have to stay here  for summer\n",
      "Earliest I can talk to their advisors is Tuesday am\n",
      "WhatsApp : CHAT_Saxena Family\tFriday April 29, 2022 18:06\tMa ~ Ok, talk to counselor too\n",
      "Got it\n",
      "WhatsApp : CHAT_Saxena Family\tTuesday May 03, 2022 15:10\tKrishna Saxena ~ ACMS advisor told me to take probability, differential equations, data structures 2 over summer\n",
      "UW advisor said to take just these classes alongside major prereqs\n",
      "UW advisor also said that I would get into math and applied physics with my grades\n",
      "WhatsApp : CHAT_Saxena Family\tTuesday May 03, 2022 16:08\tMa ~ Are these classes available in summer as well?\n",
      "WhatsApp : CHAT_Saxena Family\tTuesday May 03, 2022 19:23\tKrishna Saxena ~ I'll finish the ucsd applied math pre reqs by summer\n",
      "WhatsApp : CHAT_Saxena Family\tWednesday May 04, 2022 07:04\tMa ~ Sounds good\n",
      "<Media omitted>\n",
      "<Media omitted>\n",
      "K Stanford should be your option too\n",
      "K I reached out to a counselor who helps with transfer will let you know what you find. We will continue with both paths. Keep up the good work\n",
      "<Media omitted>\n",
      "@19717270030 what’s your schedule tomorrow\n",
      "Want to set time with a few counselors\n",
      "The options for tomorrow is 7/10:30/11/11:30 and 12pm\n",
      "WhatsApp : CHAT_Saxena Family\tThursday May 05, 2022 12:12\tKrishna Saxena ~ Of all those times, I'm only free at 7\n",
      "Here's the graph of courses: https://docs.google.com/presentation/d/147i_ML7ITigy1ALZ3PuGPIjSUy3Vszl0IDczJOzBE08/edit?usp=sharing\n",
      "computer science only shares 2 courses with the rest (CSE 143: Data Structures 1 and MATH 208: Linear Algebra)\n",
      "WhatsApp : CHAT_Saxena Family\tFriday May 06, 2022 07:00\tMa ~ <Media omitted>\n",
      "WhatsApp : CHAT_Saxena Family\tFriday May 06, 2022 11:31\tKrishna Saxena ~ Sorry for missing the call. I mistakenly joined the google meets call from the invitation\n",
      "Should I send a follow up message to Mrs. O Connor?\n",
      "WhatsApp : CHAT_Saxena Family\tFriday May 06, 2022 14:52\tPapa ~ No worries Krishna, this was an introductory call, she herself is not a counselor.\n",
      "We will talk to another person and then we can discuss.\n",
      "WhatsApp : CHAT_Saxena Family\tFriday May 06, 2022 15:23\tKrishna Saxena ~ Ok\n",
      "WhatsApp : CHAT_Saxena Family\tSunday May 08, 2022 19:27\tMa ~ Krishna do end your break days between summer and fall season \n",
      " --------------------------------------------------\n"
     ]
    },
    {
     "name": "stderr",
     "output_type": "stream",
     "text": [
      "INFO:httpx:HTTP Request: POST http://127.0.0.1:11434/api/chat \"HTTP/1.1 200 OK\"\n"
     ]
    },
    {
     "name": "stdout",
     "output_type": "stream",
     "text": [
      "binary_score='no' \n",
      "\n",
      "\n",
      "\n",
      "WhatsApp : CHAT_Papa\tThursday November 25, 2021 00:08\tPapa ~ Ok cool\n",
      "You awake\n",
      "WhatsApp : CHAT_Papa\tThursday November 25, 2021 09:26\tKrishna Saxena ~ Just brushed\n",
      "WhatsApp : CHAT_Papa\tThursday November 25, 2021 21:39\tPapa ~ Let's plan to start at around 8 am.\n",
      "WhatsApp : CHAT_Papa\tThursday November 25, 2021 21:40\tKrishna Saxena ~ Ok\n",
      "WhatsApp : CHAT_Papa\tFriday November 26, 2021 07:58\tPapa ~ Ready....\n",
      "Hellooo\n",
      "WhatsApp : CHAT_Papa\tSunday November 28, 2021 21:32\tKrishna Saxena ~ Hello\n",
      "WhatsApp : CHAT_Papa\tSunday November 28, 2021 21:33\tPapa ~ Back in San Jose... How was ur day?\n",
      "WhatsApp : CHAT_Papa\tSunday November 28, 2021 21:33\tKrishna Saxena ~ Good. Finished up all my projects for the next few days\n",
      "WhatsApp : CHAT_Papa\tSunday November 28, 2021 21:34\tPapa ~ Let's meet tomorrow after your homework etc.\n",
      "Also first please prepare to apply for internships. Go to the department that handles this for undergrads.\n",
      "Tell them about your specific CS related coursework and FTC/FRC experience. How best can they help...\n",
      "WhatsApp : CHAT_Papa\tSunday November 28, 2021 21:39\tKrishna Saxena ~ I am tutoring a high school student from 7-8pm tomorrow. I can call Tuesday at 6pm\n",
      "I will finish updating my resume, looking at the department's cover letter guide, and schedule a meeting\n",
      "WhatsApp : CHAT_Papa\tSunday November 28, 2021 21:42\tPapa ~ Oh ok.. let's plan on that. It will give me some time to go through the week 2 material.\n",
      "Tuesday after you are done with your homework\n",
      "WhatsApp : CHAT_Papa\tSunday November 28, 2021 21:43\tKrishna Saxena ~ I will call when I finish hw on Tuesday\n",
      "WhatsApp : CHAT_Papa\tSunday November 28, 2021 21:44\tPapa ~ Yes. Please use your department's resources. Also forward your resume toom.\n",
      "To mom ....\n",
      "WhatsApp : CHAT_Papa\tTuesday November 30, 2021 18:44\tKrishna Saxena ~ My last class ran 40 minutes late. Are you still able to call?\n",
      "WhatsApp : CHAT_Papa\tTuesday November 30, 2021 18:45\tPapa ~ Please go for dinner now\n",
      "Let's meet after dinner if it's ok, make sure u have done with homework\n",
      "WhatsApp : CHAT_Papa\tTuesday November 30, 2021 18:46\tKrishna Saxena ~ Ok. When are you planning on eating?\n",
      "WhatsApp : CHAT_Papa\tTuesday November 30, 2021 18:46\tPapa ~ Between 7 and 7:30 ish\n",
      "WhatsApp : CHAT_Papa\tTuesday November 30, 2021 20:18\tKrishna Saxena ~ Finished with homework\n",
      "WhatsApp : CHAT_Papa\tTuesday November 30, 2021 20:19\tPapa ~ Joining\n",
      "Zoom\n",
      "WhatsApp : CHAT_Papa\tTuesday November 30, 2021 20:21\tKrishna Saxena ~ Yea \n",
      " --------------------------------------------------\n"
     ]
    },
    {
     "name": "stderr",
     "output_type": "stream",
     "text": [
      "INFO:httpx:HTTP Request: POST http://127.0.0.1:11434/api/chat \"HTTP/1.1 200 OK\"\n"
     ]
    },
    {
     "name": "stdout",
     "output_type": "stream",
     "text": [
      "binary_score='yes' \n",
      "\n",
      "\n",
      "\n",
      "WhatsApp : CHAT_Saxena Family\tMonday February 26, 2024 12:24\tAditi ~ im on the team 🙌\n",
      "WhatsApp : CHAT_Saxena Family\tMonday February 26, 2024 13:20\tMa ~ Yay, congrats\n",
      "https://www.facebook.com/groups/carmelcalifornia/permalink/7408603919169784/\n",
      "<Media omitted>\n",
      "WhatsApp : CHAT_Saxena Family\tMonday February 26, 2024 13:34\tAditi ~ 🙂\n",
      "WhatsApp : CHAT_Saxena Family\tMonday February 26, 2024 14:19\tMa ~ <Media omitted>\n",
      "Will be shipped to store\n",
      "@15036908999 5:45 pick up from school?\n",
      "WhatsApp : CHAT_Saxena Family\tMonday February 26, 2024 17:16\tAditi ~ dont know we are at a game\n",
      "yay\n",
      "WhatsApp : CHAT_Saxena Family\tMonday February 26, 2024 17:16\tMa ~ Message when the bus heads to school\n",
      "WhatsApp : CHAT_Saxena Family\tMonday February 26, 2024 17:17\tPapa ~ In the field near school?\n",
      "Or somewhere else\n",
      "WhatsApp : CHAT_Saxena Family\tMonday February 26, 2024 17:18\tAditi ~ somewhere else\n",
      "17 minutes til we reach school\n",
      "is anyone here\n",
      "WhatsApp : CHAT_Saxena Family\tTuesday February 27, 2024 11:19\tMa ~ <Media omitted>\n",
      "https://facebook.com/events/s/free-event-cupertino-cherry-bl/327448606784742/?mibextid=Z0UBBX\n",
      "WhatsApp : CHAT_Saxena Family\tTuesday February 27, 2024 17:39\tAditi ~ 10 minutes til i get to school\n",
      "WhatsApp : CHAT_Saxena Family\tTuesday February 27, 2024 17:41\tMa ~ In meeting will be there by 6pm\n",
      "Do things in moderation and by all means avoid eating things with added sugar! A bit bitterness is good for your body too!  https://youtu.be/zBxcXstvlpc?si=gAhSM57G-oGGJL-g\n",
      "<Media omitted>\n",
      "WhatsApp : CHAT_Saxena Family\tWednesday February 28, 2024 18:20\tAditi ~ 37 minutes til i reach notre dame\n",
      "can someone pick me up at PAL stadium today?\n",
      "WhatsApp : CHAT_Saxena Family\tThursday February 29, 2024 15:39\tPapa ~ Not me, but what time?\n",
      "WhatsApp : CHAT_Saxena Family\tThursday February 29, 2024 15:39\tAditi ~ oh ill talk to mom\n",
      "WhatsApp : CHAT_Saxena Family\tFriday March 01, 2024 10:12\tPapa ~ Let us all pray  for his recovery 🙏\n",
      "WhatsApp : CHAT_Saxena Family\tFriday March 01, 2024 10:16\tMa ~ Papa is referring to mama’s helath. He is hospitalized with brain stroke and vision loss and on path of slow recovery…\n",
      "WhatsApp : CHAT_Saxena Family\tFriday March 01, 2024 10:28\tPapa ~ Forwarded by bua in Delhi for mama.\n",
      "K Bhai need a picture of your WA license\n",
      "WhatsApp : CHAT_Saxena Family\tFriday March 01, 2024 14:06\tKrishna Saxena ~ <Media omitted>\n",
      "WhatsApp : CHAT_Saxena Family\tFriday March 01, 2024 14:16\tMa ~ Ready to leave @15036908999\n",
      "https://www.instagram.com/reel/C34BZfHo5R8/?igsh=NjFhOGMzYTE3ZQ==\n",
      "Mama’s update, he is in capable care and improving  He is getting partial vision, able to identify hand movements and sometime finger count\n",
      "WhatsApp : CHAT_Saxena Family\tSaturday March 02, 2024 16:05\tPapa ~ Aditi, are you done \n",
      " --------------------------------------------------\n"
     ]
    },
    {
     "name": "stderr",
     "output_type": "stream",
     "text": [
      "INFO:httpx:HTTP Request: POST http://127.0.0.1:11434/api/chat \"HTTP/1.1 200 OK\"\n"
     ]
    },
    {
     "name": "stdout",
     "output_type": "stream",
     "text": [
      "binary_score='no' \n",
      "\n",
      "\n",
      "\n",
      "WhatsApp : CHAT_Papa\tSunday May 15, 2022 14:25\tPapa ~ Back now\n",
      "WhatsApp : CHAT_Papa\tSunday May 15, 2022 14:26\tKrishna Saxena ~ Ok\n",
      "I am back\n",
      "WhatsApp : CHAT_Papa\tSunday May 15, 2022 19:40\tPapa ~ 2 minutes\n",
      "WhatsApp : CHAT_Papa\tTuesday May 17, 2022 15:03\tKrishna Saxena ~ Can you call today?\n",
      "WhatsApp : CHAT_Papa\tTuesday May 17, 2022 15:22\tPapa ~ Ok, give me 5 min\n",
      "WhatsApp : CHAT_Papa\tTuesday May 17, 2022 19:40\tKrishna Saxena ~ I'm back\n",
      "WhatsApp : CHAT_Papa\tTuesday May 17, 2022 19:58\tPapa ~ Sorry got delayed\n",
      "WhatsApp : CHAT_Papa\tTuesday May 17, 2022 19:58\tKrishna Saxena ~ No worries\n",
      "Can you call today?\n",
      "WhatsApp : CHAT_Papa\tThursday May 19, 2022 15:34\tPapa ~ Back home\n",
      "A few minutes\n",
      "WhatsApp : CHAT_Papa\tThursday May 19, 2022 15:35\tKrishna Saxena ~ Ok\n",
      "WhatsApp : CHAT_Papa\tThursday May 19, 2022 15:59\tPapa ~ Back online\n",
      "WhatsApp : CHAT_Papa\tThursday May 19, 2022 19:43\tKrishna Saxena ~ Long delay but I am back\n",
      "WhatsApp : CHAT_Papa\tThursday May 19, 2022 20:10\tPapa ~ Me too\n",
      "WhatsApp : CHAT_Papa\tSunday May 22, 2022 16:25\tKrishna Saxena ~ Sorry for the long delay. Could we call?\n",
      "WhatsApp : CHAT_Papa\tSunday May 22, 2022 16:25\tPapa ~ No worries give me 5 minutes, get some coffee\n",
      "Will be ready by 8:30, relax, play,chill\n",
      "I'm back\n",
      "WhatsApp : CHAT_Papa\tSunday May 22, 2022 20:29\tKrishna Saxena ~ Ok\n",
      "Me too\n",
      "WhatsApp : CHAT_Papa\tWednesday May 25, 2022 20:26\tPapa ~ Are you in your dorm?\n",
      "WhatsApp : CHAT_Papa\tWednesday May 25, 2022 20:26\tKrishna Saxena ~ Yes\n",
      "WhatsApp : CHAT_Papa\tMonday June 20, 2022 06:41\tPapa ~ Are you close to the gate?\n",
      "Back in the dorm?\n",
      "WhatsApp : CHAT_Papa\tMonday June 20, 2022 21:13\tKrishna Saxena ~ Yes \n",
      " --------------------------------------------------\n"
     ]
    },
    {
     "name": "stderr",
     "output_type": "stream",
     "text": [
      "INFO:httpx:HTTP Request: POST http://127.0.0.1:11434/api/chat \"HTTP/1.1 200 OK\"\n"
     ]
    },
    {
     "name": "stdout",
     "output_type": "stream",
     "text": [
      "binary_score='no' \n",
      "\n",
      "\n",
      "\n",
      "WhatsApp : CHAT_Saxena Family\tWednesday September 27, 2023 08:11\tPapa ~ That's a good idea...\n",
      "WhatsApp : CHAT_Saxena Family\tWednesday September 27, 2023 08:31\tMa ~ That way we can get one flight from sea to sjc and back and another one between dallas and sjc\n",
      "WhatsApp : CHAT_Saxena Family\tWednesday September 27, 2023 08:34\tAditi ~ could anyone pick me up during lunch i cant swallow anything\n",
      "WhatsApp : CHAT_Saxena Family\tWednesday September 27, 2023 08:34\tPapa ~ Ok I will, what time?\n",
      "WhatsApp : CHAT_Saxena Family\tWednesday September 27, 2023 08:40\tMa ~ <Media omitted>\n",
      "Get a mask aditi\n",
      "@15038405146 trying ti call you\n",
      "<Media omitted>\n",
      "<Media omitted>\n",
      "@19717270030 in the evening book sea <-> sjc\n",
      "WhatsApp : CHAT_Saxena Family\tWednesday September 27, 2023 09:14\tAditi ~ i was in class\n",
      "ill have the school call you\n",
      "WhatsApp : CHAT_Saxena Family\tWednesday September 27, 2023 12:17\tMa ~ @15038405146 Aditi needs to be picked up\n",
      "School just called\n",
      "WhatsApp : CHAT_Saxena Family\tThursday September 28, 2023 11:13\tPapa ~ K Bhai can you please double check.. today is the last day for fare sale at Southwest. Let us know if you are busy... we can do the booking.\n",
      "WhatsApp : CHAT_Saxena Family\tThursday September 28, 2023 12:06\tMa ~ Alaska has better flight options than southwest\n",
      "WhatsApp : CHAT_Saxena Family\tThursday September 28, 2023 13:42\tAditi ~ can pickup be around 3:15 i need to chat with a teacher\n",
      "WhatsApp : CHAT_Saxena Family\tThursday September 28, 2023 13:47\tKrishna Saxena ~ Can you please check\n",
      "WhatsApp : CHAT_Saxena Family\tThursday September 28, 2023 13:49\tMa ~ <Media omitted>\n",
      "WhatsApp : CHAT_Saxena Family\tThursday September 28, 2023 13:50\tKrishna Saxena ~ Yes\n",
      "WhatsApp : CHAT_Saxena Family\tFriday September 29, 2023 08:59\tPapa ~ https://www.nbcbayarea.com/news/local/bay-area-proud/san-jose-high-school-seniors-inventions-help-those-living-with-air-water-pollution/3329661/\n",
      "WhatsApp : CHAT_Saxena Family\tFriday September 29, 2023 10:00\tMa ~ Key is mindset and kindness ! Bounced back from tennis injury Observed his family get affected by pollution Used skills to improve quality of life  This person has ingridients to be a continuous innovator and create great things\n",
      "WhatsApp : CHAT_Saxena Family\tFriday September 29, 2023 11:12\tPapa ~ https://www.pinkvilla.com/entertainment/news/there-is-no-lip-sync-anymore-javed-akhtar-decodes-why-todays-songs-fade-fast-1247268\n",
      "Not just me... even the expert agrees about the lack of good lyrics in Hindi songs\n",
      "WhatsApp : CHAT_Saxena Family\tSaturday September 30, 2023 13:30\tAditi ~ yo @19717270030\n",
      "WhatsApp : CHAT_Saxena Family\tSaturday September 30, 2023 13:30\tKrishna Saxena ~ yes\n",
      "WhatsApp : CHAT_Saxena Family\tSaturday September 30, 2023 13:30\tAditi ~ if u have a few extra hours today we rented the gran turismo movie\n",
      "u should watch it\n",
      "its good\n",
      "WhatsApp : CHAT_Saxena Family\tSaturday September 30, 2023 13:31\tKrishna Saxena ~ ok \n",
      " --------------------------------------------------\n"
     ]
    },
    {
     "name": "stderr",
     "output_type": "stream",
     "text": [
      "INFO:httpx:HTTP Request: POST http://127.0.0.1:11434/api/chat \"HTTP/1.1 200 OK\"\n"
     ]
    },
    {
     "name": "stdout",
     "output_type": "stream",
     "text": [
      "binary_score='no' \n",
      "\n",
      "\n",
      "\n",
      "WhatsApp : CHAT_Saxena Family\tThursday March 28, 2024 14:59\tPapa ~ Call Mom and check\n",
      "WhatsApp : CHAT_Saxena Family\tThursday March 28, 2024 14:59\tMa ~ Sorry later, tryimg to find a break to get out\n",
      "WhatsApp : CHAT_Saxena Family\tThursday March 28, 2024 15:00\tAditi ~ around how long\n",
      "WhatsApp : CHAT_Saxena Family\tThursday March 28, 2024 15:00\tMa ~ My first break is 4:45 to leave from here\n",
      "Does that work\n",
      "Please reply asap\n",
      "WhatsApp : CHAT_Saxena Family\tThursday March 28, 2024 15:12\tAditi ~ yeah\n",
      "WhatsApp : CHAT_Saxena Family\tThursday March 28, 2024 22:24\tMa ~ https://www.instagram.com/reel/C5BJRcroAzA/?igsh=NjFhOGMzYTE3ZQ==\n",
      "Interesting https://www.instagram.com/reel/C5BLLhfJ9YO/?igsh=NjFhOGMzYTE3ZQ==\n",
      "<Media omitted>\n",
      "WhatsApp : CHAT_Saxena Family\tSaturday March 30, 2024 13:22\tPapa ~ https://www.newyorker.com/magazine/2024/04/01/what-have-fourteen-years-of-conservative-rule-done-to-britain  A bit long, but the problem of bad government has been disastrous in Britain. There is an election this year there too.\n",
      "Mainly for Aditi :)\n",
      "WhatsApp : CHAT_Saxena Family\tSaturday March 30, 2024 13:25\tAditi ~ intriguing\n",
      "WhatsApp : CHAT_Saxena Family\tSaturday March 30, 2024 21:14\tMa ~ <Media omitted>\n",
      "<Media omitted>\n",
      "<Media omitted>\n",
      "<Media omitted>\n",
      "<Media omitted>\n",
      "<Media omitted>\n",
      "<Media omitted>\n",
      "WhatsApp : CHAT_Saxena Family\tSaturday March 30, 2024 21:28\tAditi ~ omg i took a picture here in december\n",
      "WhatsApp : CHAT_Saxena Family\tSaturday March 30, 2024 21:38\tMa ~ Yea\n",
      "<Media omitted>\n",
      "Book it?\n",
      "WhatsApp : CHAT_Saxena Family\tThursday April 04, 2024 08:54\tPapa ~ You have the southwest cards\n",
      "WhatsApp : CHAT_Saxena Family\tThursday April 04, 2024 08:54\tMa ~ No will wait for aditi to send picture\n",
      "WhatsApp : CHAT_Saxena Family\tThursday April 04, 2024 08:54\tPapa ~ Okie dokie\n",
      "K Bhai fees?\n",
      "WhatsApp : CHAT_Saxena Family\tThursday April 04, 2024 08:57\tKrishna Saxena ~ 14K\n",
      "WhatsApp : CHAT_Saxena Family\tThursday April 04, 2024 08:57\tPapa ~ Due when?\n",
      "WhatsApp : CHAT_Saxena Family\tThursday April 04, 2024 08:57\tKrishna Saxena ~ 4/12\n",
      "WhatsApp : CHAT_Saxena Family\tThursday April 04, 2024 08:58\tPapa ~ Okie dokie\n",
      "WhatsApp : CHAT_Saxena Family\tThursday April 04, 2024 12:05\tAditi ~ my friends taking me to valley fair at 1-3, shell drop me off home too\n",
      "WhatsApp : CHAT_Saxena Family\tThursday April 04, 2024 12:20\tPapa ~ Which ones ? And which mall \n",
      " --------------------------------------------------\n"
     ]
    },
    {
     "name": "stderr",
     "output_type": "stream",
     "text": [
      "INFO:httpx:HTTP Request: POST http://127.0.0.1:11434/api/chat \"HTTP/1.1 200 OK\"\n"
     ]
    },
    {
     "name": "stdout",
     "output_type": "stream",
     "text": [
      "binary_score='yes' \n",
      "\n",
      "\n",
      "\n",
      "WhatsApp : CHAT_Papa\tSaturday October 08, 2022 23:04\tPapa ~ Back on zoom\n",
      "Hope you rested...\n",
      "Your passport is here.\n",
      "<Media omitted>\n",
      "WhatsApp : CHAT_Papa\tSunday October 09, 2022 19:02\tKrishna Saxena ~ Cool\n",
      "WhatsApp : CHAT_Papa\tTuesday October 11, 2022 21:14\tPapa ~ K betu, can u send me the copy of the selenium notebook.\n",
      "Thank u\n",
      "Would u have some time now?\n",
      "Just a few minutes\n",
      "WhatsApp : CHAT_Papa\tSaturday October 15, 2022 21:26\tKrishna Saxena ~ Sure\n",
      "WhatsApp : CHAT_Papa\tSaturday October 15, 2022 21:26\tPapa ~ Give me 2 min\n",
      "On zoom\n",
      "My id\n",
      "Good morning Krishna let me know whenever you have some time...\n",
      "Hackaday: 3-DOF Robot Arm Wrist Without The Motor Weight. https://hackaday.com/2022/11/03/3-dof-robot-arm-wrist-without-the-motor-weight/\n",
      "Hi Krishna, just saw your missed calls... Sorry\n",
      "How are you doing? Busy with homework\n",
      "WhatsApp : CHAT_Papa\tSunday November 06, 2022 18:02\tKrishna Saxena ~ Did most of my work for this week today\n",
      "WhatsApp : CHAT_Papa\tSunday November 06, 2022 18:03\tPapa ~ Sure, take some rest and dinner.. we can get together after dinner...\n",
      "WhatsApp : CHAT_Papa\tSunday November 06, 2022 18:03\tKrishna Saxena ~ Ok\n",
      "Approximately what time?\n",
      "WhatsApp : CHAT_Papa\tSunday November 06, 2022 18:04\tPapa ~ 7 pm?\n",
      "WhatsApp : CHAT_Papa\tSunday November 06, 2022 18:04\tKrishna Saxena ~ Talk to you then\n",
      "WhatsApp : CHAT_Papa\tSunday November 06, 2022 18:51\tPapa ~ Just going for dinner now please give me a few minutes...\n",
      "WhatsApp : CHAT_Papa\tSunday November 06, 2022 18:51\tKrishna Saxena ~ No worries. Take your time\n",
      "WhatsApp : CHAT_Papa\tSunday November 06, 2022 19:12\tPapa ~ Back now\n",
      "WhatsApp : CHAT_Papa\tSunday November 06, 2022 19:13\tKrishna Saxena ~ Which meeting id?\n",
      "WhatsApp : CHAT_Papa\tSunday November 06, 2022 19:15\tPapa ~ Logging into zoom. Umich zoom id should work\n",
      "Krishna betu... Please call when you are free...\n",
      "Did u get a pass code from datakind?\n",
      "Nevermind the actual link is in slack..\n",
      "Have a good day will let u know\n",
      "When u have some time join the slack channel - there are 4 projects, one of them deals with SNAP benefits and the state they have chosen is WA and NC.\n",
      "I thought it would be good to know what kind of datasets they have for states... And perhaps gain some knowledge in that space.\n",
      "Missed video call\n",
      "WhatsApp : CHAT_Papa\tMonday December 19, 2022 13:27\tKrishna Saxena ~ Is an acai bowl from Jamba juice fine?\n",
      "WhatsApp : CHAT_Papa\tTuesday January 03, 2023 17:49\tPapa ~ How are u doing?\n",
      "WhatsApp : CHAT_Papa\tTuesday January 03, 2023 17:50\tKrishna Saxena ~ Alright. Just came back from volunteering\n",
      "WhatsApp : CHAT_Papa\tTuesday January 03, 2023 17:51\tPapa ~ No worries... Take your time\n",
      "How was the first day back?\n",
      "WhatsApp : CHAT_Papa\tTuesday January 03, 2023 17:52\tKrishna Saxena ~ Not to busy, but spread out\n",
      "My roommate wanted to go to the gym at 9 tonight \n",
      " --------------------------------------------------\n"
     ]
    },
    {
     "name": "stderr",
     "output_type": "stream",
     "text": [
      "INFO:httpx:HTTP Request: POST http://127.0.0.1:11434/api/chat \"HTTP/1.1 200 OK\"\n"
     ]
    },
    {
     "name": "stdout",
     "output_type": "stream",
     "text": [
      "binary_score='yes' \n",
      "\n",
      "\n",
      "\n",
      "WhatsApp : CHAT_Papa\tSaturday May 14, 2022 13:59\tPapa ~ Just saw ur msg\n",
      "WhatsApp : CHAT_Papa\tSaturday May 14, 2022 13:59\tKrishna Saxena ~ no worries\n",
      "WhatsApp : CHAT_Papa\tSaturday May 14, 2022 14:00\tPapa ~ On zoom\n",
      "WhatsApp : CHAT_Papa\tSaturday May 14, 2022 18:00\tKrishna Saxena ~ Back online\n",
      "WhatsApp : CHAT_Papa\tSaturday May 14, 2022 18:07\tPapa ~ 2 minutes\n",
      "WhatsApp : CHAT_Papa\tSaturday May 14, 2022 18:07\tKrishna Saxena ~ ok\n",
      "i'm back\n",
      "WhatsApp : CHAT_Papa\tSaturday May 14, 2022 19:53\tPapa ~ Me now\n",
      "WhatsApp : CHAT_Papa\tSaturday May 14, 2022 23:39\tKrishna Saxena ~ Lost internet connection\n",
      "WhatsApp : CHAT_Papa\tSaturday May 14, 2022 23:39\tPapa ~ Good night let's pick it up tomorrow\n",
      "Take care\n",
      "WhatsApp : CHAT_Papa\tSaturday May 14, 2022 23:40\tKrishna Saxena ~ Ok. Good night\n",
      "Can you call now?\n",
      "WhatsApp : CHAT_Papa\tSunday May 15, 2022 14:25\tPapa ~ Back now\n",
      "WhatsApp : CHAT_Papa\tSunday May 15, 2022 14:26\tKrishna Saxena ~ Ok\n",
      "I am back\n",
      "WhatsApp : CHAT_Papa\tSunday May 15, 2022 19:40\tPapa ~ 2 minutes\n",
      "WhatsApp : CHAT_Papa\tTuesday May 17, 2022 15:03\tKrishna Saxena ~ Can you call today?\n",
      "WhatsApp : CHAT_Papa\tTuesday May 17, 2022 15:22\tPapa ~ Ok, give me 5 min\n",
      "WhatsApp : CHAT_Papa\tTuesday May 17, 2022 19:40\tKrishna Saxena ~ I'm back\n",
      "WhatsApp : CHAT_Papa\tTuesday May 17, 2022 19:58\tPapa ~ Sorry got delayed\n",
      "WhatsApp : CHAT_Papa\tTuesday May 17, 2022 19:58\tKrishna Saxena ~ No worries\n",
      "Can you call today?\n",
      "WhatsApp : CHAT_Papa\tThursday May 19, 2022 15:34\tPapa ~ Back home\n",
      "A few minutes\n",
      "WhatsApp : CHAT_Papa\tThursday May 19, 2022 15:35\tKrishna Saxena ~ Ok \n",
      " --------------------------------------------------\n"
     ]
    },
    {
     "name": "stderr",
     "output_type": "stream",
     "text": [
      "INFO:httpx:HTTP Request: POST http://127.0.0.1:11434/api/chat \"HTTP/1.1 200 OK\"\n"
     ]
    },
    {
     "name": "stdout",
     "output_type": "stream",
     "text": [
      "binary_score='no' \n",
      "\n",
      "\n",
      "\n",
      "WhatsApp : CHAT_Saxena Family\tMonday July 31, 2023 15:04\tPapa ~ Outside\n",
      "WhatsApp : CHAT_Saxena Family\tMonday July 31, 2023 15:04\tAditi ~ cool\n",
      "Did we ever set an appointment\n",
      "WhatsApp : CHAT_Saxena Family\tWednesday August 02, 2023 13:34\tMa ~ Just got one for aug 10th at 10:30am with dr. Geetha\n",
      "Cupertino\n",
      "WhatsApp : CHAT_Saxena Family\tWednesday August 02, 2023 13:35\tPapa ~ Aug 10 is dentist appointment?\n",
      "WhatsApp : CHAT_Saxena Family\tWednesday August 02, 2023 13:35\tMa ~ What time?\n",
      "Its in Cupertino too\n",
      "WhatsApp : CHAT_Saxena Family\tWednesday August 02, 2023 13:35\tKrishna Saxena ~ Dentist appts at 10am, 11am\n",
      "WhatsApp : CHAT_Saxena Family\tWednesday August 02, 2023 13:36\tMa ~ Aditi could go the 11am one ?\n",
      "WhatsApp : CHAT_Saxena Family\tWednesday August 02, 2023 13:53\tAditi ~ I thought 9th\n",
      "WhatsApp : CHAT_Saxena Family\tWednesday August 02, 2023 13:54\tMa ~ Oh good\n",
      "WhatsApp : CHAT_Saxena Family\tWednesday August 02, 2023 13:54\tKrishna Saxena ~ 9th is correct\n",
      "WhatsApp : CHAT_Saxena Family\tWednesday August 02, 2023 13:54\tAditi ~ cool\n",
      "WhatsApp : CHAT_Saxena Family\tWednesday August 02, 2023 14:02\tMa ~ What birthday gift do you want to give to Tavish!!\n",
      "Did all of you leave already?\n",
      "WhatsApp : CHAT_Saxena Family\tWednesday August 02, 2023 16:32\tKrishna Saxena ~ We got gifts, are at HD\n",
      "WhatsApp : CHAT_Saxena Family\tWednesday August 02, 2023 16:32\tMa ~ Ok cool\n",
      "<Media omitted>\n",
      "WhatsApp : CHAT_Saxena Family\tWednesday August 02, 2023 16:36\tKrishna Saxena ~ If you could find the receipt and put the organizer in the car, that would be nice\n",
      "WhatsApp : CHAT_Saxena Family\tWednesday August 02, 2023 16:37\tMa ~ <Media omitted>\n",
      "JMTOOR Memory Foam Bath Mat 17\" X 24\" Coral Velvet Super Non-Slip Rapid Water Absorption Soft and Comfortable Easier to Dry Machine Wash Bathroom Mat, Gray https://a.co/d/ebd1l6U https://a.co/d/ebd1l6U\n",
      "WhatsApp : CHAT_Saxena Family\tFriday August 04, 2023 18:48\tAditi ~ Indian Store Grocery List 1. Cut veggies 2. Roasted Chenna (unsalted) 3. Hukka Noodle\n",
      "4. Mary Biscuit\n",
      "WhatsApp : CHAT_Saxena Family\tFriday August 04, 2023 20:33\tMa ~ https://www.facebook.com/reel/827615572276835?fs=e&s=7MtrtK&mibextid=z9DgKg\n",
      "<Media omitted>\n",
      "<Media omitted>\n",
      "studies is the action in the first minutes of collapse show that many young people do have symptoms but neglect to tell an adult.  This may be because they are embarrassed, they do not want to jeopardize their playing time, they mistakenly think they're out of shape and need to train harder, or they simply ignore the symptoms, assuming they will \"just go away.\"  Additionally. some health history factors increase the risk of SCA.\n",
      "How to help /survive\n",
      "Ems team takes 12-15 minutes to arrive\n",
      "Recognize, early access to 911, early cpr, earli defibrillation, early advanced care (EMS)\n",
      "<Media omitted>\n",
      "<Media omitted>\n",
      "WhatsApp : CHAT_Saxena Family\tTuesday August 08, 2023 17:30\tKrishna Saxena ~ You deleted this message\n",
      "@15036908999 @16699465233 can you please get 2 salads and milk\n",
      "WhatsApp : CHAT_Saxena Family\tTuesday August 08, 2023 17:36\tAditi ~ suree \n",
      " --------------------------------------------------\n"
     ]
    },
    {
     "name": "stderr",
     "output_type": "stream",
     "text": [
      "INFO:httpx:HTTP Request: POST http://127.0.0.1:11434/api/chat \"HTTP/1.1 200 OK\"\n"
     ]
    },
    {
     "name": "stdout",
     "output_type": "stream",
     "text": [
      "binary_score='no' \n",
      "\n",
      "\n",
      "\n"
     ]
    }
   ],
   "execution_count": 20
  },
  {
   "metadata": {},
   "cell_type": "markdown",
   "source": "### Generate Result"
  },
  {
   "metadata": {
    "ExecuteTime": {
     "end_time": "2025-03-10T19:49:20.230678Z",
     "start_time": "2025-03-10T19:49:18.525548Z"
    }
   },
   "cell_type": "code",
   "source": [
    "from langchain_core.output_parsers import StrOutputParser\n",
    "\n",
    "# Prompt\n",
    "system = \"\"\"You are an assistant for question-answering tasks. Answer the question based upon your knowledge.\n",
    "Use three-to-five sentences maximum and keep the answer concise.\"\"\"\n",
    "prompt = ChatPromptTemplate.from_messages(\n",
    "    [\n",
    "        (\"system\", system),\n",
    "        (\"human\", \"Retrieved documents: \\n\\n <docs>{documents}</docs> \\n\\n User question: <question>{question}</question>\"),\n",
    "    ]\n",
    ")\n",
    "\n",
    "# Post-processing\n",
    "def format_docs(docs):\n",
    "    return \"\\n\".join(f\"<doc{i+1}>:\\nSource:{doc['MSG_ID']}\\nContent:{doc['FULL_CONTEXT']}\\n</doc{i+1}>\\n\" for i, doc in enumerate(docs))\n",
    "\n",
    "# Chain\n",
    "rag_chain = prompt | big_llm | StrOutputParser()\n",
    "\n",
    "# Run\n",
    "generation = rag_chain.invoke({\"documents\":format_docs(docs_to_use), \"question\": question})\n",
    "print(generation)"
   ],
   "outputs": [
    {
     "name": "stderr",
     "output_type": "stream",
     "text": [
      "INFO:httpx:HTTP Request: POST http://127.0.0.1:11434/api/chat \"HTTP/1.1 200 OK\"\n"
     ]
    },
    {
     "name": "stdout",
     "output_type": "stream",
     "text": [
      "Based on the provided WhatsApp conversation logs, I was unable to find any explicit \"ToDos\" mentioned by Papa. However, I can try to infer some tasks or reminders that Papa might have given to Krishna based on their conversations.\n",
      "\n",
      "If you'd like, I can attempt to extract some potential ToDos or reminders from the conversation logs. Please let me know!\n"
     ]
    }
   ],
   "execution_count": 21
  },
  {
   "metadata": {},
   "cell_type": "markdown",
   "source": "### Check for Hallucinations"
  },
  {
   "metadata": {},
   "cell_type": "code",
   "source": [
    "# Data model\n",
    "class GradeHallucinations(BaseModel):\n",
    "    \"\"\"Binary score for hallucination present in 'generation' answer.\"\"\"\n",
    "\n",
    "    binary_score: str = Field(\n",
    "        ...,\n",
    "        description=\"Answer is grounded in the facts, 'yes' or 'no'\"\n",
    "    )\n",
    "\n",
    "# LLM with function call\n",
    "structured_llm_grader = big_llm.with_structured_output(GradeHallucinations)\n",
    "\n",
    "# Prompt\n",
    "system = \"\"\"You are a grader assessing whether an LLM generation is grounded in / supported by a set of retrieved facts. \\n\n",
    "    Give a binary score 'yes' or 'no'. 'Yes' means that the answer is grounded in / supported by the set of facts.\"\"\"\n",
    "hallucination_prompt = ChatPromptTemplate.from_messages(\n",
    "    [\n",
    "        (\"system\", system),\n",
    "        (\"human\", \"Set of facts: \\n\\n <facts>{documents}</facts> \\n\\n LLM generation: <generation>{generation}</generation>\"),\n",
    "    ]\n",
    ")\n",
    "\n",
    "hallucination_grader = hallucination_prompt | structured_llm_grader\n",
    "\n",
    "response = hallucination_grader.invoke({\"documents\": format_docs(docs_to_use), \"generation\": generation})\n",
    "print(response)"
   ],
   "outputs": [],
   "execution_count": null
  },
  {
   "metadata": {},
   "cell_type": "markdown",
   "source": "### Highlight Used Docs"
  },
  {
   "metadata": {},
   "cell_type": "code",
   "source": [
    "from typing import List\n",
    "from langchain.output_parsers import PydanticOutputParser\n",
    "from langchain_core.prompts import PromptTemplate\n",
    "\n",
    "# Data model\n",
    "class HighlightDocuments(BaseModel):\n",
    "    \"\"\"Return the specific part of a document used for answering the question.\"\"\"\n",
    "\n",
    "    Source: List[str] = Field(\n",
    "        ...,\n",
    "        description=\"List of alphanumeric ID of docs used to answers the question\"\n",
    "    )\n",
    "    Content: List[str] = Field(\n",
    "        ...,\n",
    "        description=\"List of complete conversation contexts that answers the question\"\n",
    "    )\n",
    "    Segment: List[str] = Field(\n",
    "        ...,\n",
    "        description=\"List of pointed, direct segments from used documents that answer the question\"\n",
    "    )\n",
    "\n",
    "# parser\n",
    "parser = PydanticOutputParser(pydantic_object=HighlightDocuments)\n",
    "\n",
    "# Prompt\n",
    "system = \"\"\"You are an advanced assistant for document search and retrieval. You are provided with the following:\n",
    "1. A question.\n",
    "2. A generated answer based on the question.\n",
    "3. A set of documents that were referenced in generating the answer.\n",
    "\n",
    "Your task is to identify and extract the exact inline segments from the provided documents that directly correspond to the content used to\n",
    "generate the given answer. The extracted segments must be verbatim snippets from the documents, ensuring a word-for-word match with the text\n",
    "in the provided documents.\n",
    "\n",
    "Ensure that:\n",
    "- (Important) Each segment is an exact match to a part of the document and is fully contained within the document text.\n",
    "- The relevance of each segment to the generated answer is clear and directly supports the answer provided.\n",
    "- (Important) If you didn't used the specific document don't mention it.\n",
    "\n",
    "Used documents: <docs>{documents}</docs> \\n\\n User question: <question>{question}</question> \\n\\n Generated answer: <answer>{generation}</answer>\n",
    "\n",
    "<format_instruction>\n",
    "{format_instructions}\n",
    "</format_instruction>\n",
    "\"\"\"\n",
    "\n",
    "\n",
    "prompt = PromptTemplate(\n",
    "    template= system,\n",
    "    input_variables=[\"documents\", \"question\", \"generation\"],\n",
    "    partial_variables={\"format_instructions\": parser.get_format_instructions()},\n",
    ")\n",
    "\n",
    "# Chain\n",
    "doc_lookup = prompt | big_llm | parser\n",
    "\n",
    "# Run\n",
    "lookup_response = doc_lookup.invoke({\"documents\":format_docs(docs_to_use), \"question\": question, \"generation\": generation})"
   ],
   "outputs": [],
   "execution_count": null
  },
  {
   "metadata": {},
   "cell_type": "code",
   "source": [
    "for id, source, segment in zip(lookup_response.Source, lookup_response.Content, lookup_response.Segment):\n",
    "    print(f\"ID: {id}\\nSource: {source}\\nText Segment: {segment}\\n\")"
   ],
   "outputs": [],
   "execution_count": null
  }
 ],
 "metadata": {
  "kernelspec": {
   "display_name": "test",
   "language": "python",
   "name": "python3"
  },
  "language_info": {
   "codemirror_mode": {
    "name": "ipython",
    "version": 3
   },
   "file_extension": ".py",
   "mimetype": "text/x-python",
   "name": "python",
   "nbconvert_exporter": "python",
   "pygments_lexer": "ipython3",
   "version": "3.11.0"
  }
 },
 "nbformat": 4,
 "nbformat_minor": 2
}
